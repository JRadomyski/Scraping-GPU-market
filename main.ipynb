{
 "cells": [
  {
   "cell_type": "code",
   "execution_count": 8,
   "metadata": {},
   "outputs": [],
   "source": [
    "import pandas as pd\n",
    "import numpy as np\n",
    "import plotly.express as px\n",
    "import plotly.graph_objects as go\n",
    "import re\n"
   ]
  },
  {
   "cell_type": "code",
   "execution_count": 10,
   "metadata": {},
   "outputs": [
    {
     "name": "stdout",
     "output_type": "stream",
     "text": [
      "                                               Title        Price  \\\n",
      "0  Karta graficzna MSI GeForce RTX 4070 Ti SUPER ...     3 699 zł   \n",
      "1  Karta graficzna Gigabyte GeForce RTX 4060 Eagl...     1 359 zł   \n",
      "2  Karta graficzna Gigabyte GeForce RTX 4060 Wind...  1 303,90 zł   \n",
      "3  Karta graficzna ASRock Radeon RX 6800 XT Phant...  2 510,66 zł   \n",
      "4  Karta graficzna Asus Dual GeForce RTX 4060 EVO...     1 299 zł   \n",
      "\n",
      "  Długość karty Ilość pamięci RAM            Rodzaj chipsetu  \\\n",
      "0        242 mm             16 GB  GeForce RTX 4070 Ti Super   \n",
      "1        272 mm              8 GB           GeForce RTX 4060   \n",
      "2        192 mm              8 GB           GeForce RTX 4060   \n",
      "3        330 mm             16 GB          Radeon RX 6800 XT   \n",
      "4        227 mm              8 GB           GeForce RTX 4060   \n",
      "\n",
      "  Taktowanie rdzenia w trybie boost  \n",
      "0                          2655 MHz  \n",
      "1                          2505 MHz  \n",
      "2                          2475 MHz  \n",
      "3                          2310 MHz  \n",
      "4                          2535 MHz  \n"
     ]
    }
   ],
   "source": [
    "df = pd.read_csv('products.csv')\n",
    "print(df.head())"
   ]
  },
  {
   "cell_type": "code",
   "execution_count": 14,
   "metadata": {},
   "outputs": [],
   "source": [
    "df['Price'] = df['Price'].astype(str)\n",
    "df['Price'] = df['Price'].str.replace(r'\\s+', '', regex=True)\n",
    "df['Price'] = df['Price'].str.replace(',', '.')\n",
    "df['Price'] = df['Price'].str.replace('zł', '')\n",
    "df['Price'] = df['Price'].str.replace('od', '', regex=False)\n",
    "df['Price'] = df['Price'].str.replace('od', '', regex=False)\n",
    "df['Price'] = pd.to_numeric(df['Price'], errors='coerce')"
   ]
  },
  {
   "cell_type": "code",
   "execution_count": 15,
   "metadata": {},
   "outputs": [],
   "source": [
    "df['Price'] = df['Price'].fillna('').astype(str)\n",
    "df['Price'] = df['Price'].str.replace(r'\\s+', '', regex=True)\n",
    "df['Price'] = df['Price'].str.replace(',', '.')\n",
    "df['Price'] = df['Price'].str.replace('zł', '')\n",
    "df['Price'] = df['Price'].str.replace('od', '', regex=False)\n",
    "df['Price'] = pd.to_numeric(df['Price'], errors='coerce')\n",
    "\n",
    "df['Długość karty'] = df['Długość karty'].fillna('').astype(str)\n",
    "df['Długość karty'] = df['Długość karty'].str.replace(' mm', '')\n",
    "df['Długość karty'] = pd.to_numeric(df['Długość karty'], errors='coerce')\n",
    "\n",
    "df['Ilość pamięci RAM'] = df['Ilość pamięci RAM'].fillna('').astype(str)\n",
    "df['Ilość pamięci RAM'] = df['Ilość pamięci RAM'].str.replace(' GB', '')\n",
    "df['Ilość pamięci RAM'] = pd.to_numeric(df['Ilość pamięci RAM'], errors='coerce')\n",
    "\n",
    "df['Taktowanie rdzenia w trybie boost'] = df['Taktowanie rdzenia w trybie boost'].fillna('').astype(str)\n",
    "df['Taktowanie rdzenia w trybie boost'] = df['Taktowanie rdzenia w trybie boost'].str.replace(' MHz', '')\n",
    "df['Taktowanie rdzenia w trybie boost'] = df['Taktowanie rdzenia w trybie boost'].str.replace('Brak danych', '')\n",
    "df['Taktowanie rdzenia w trybie boost'] = pd.to_numeric(df['Taktowanie rdzenia w trybie boost'], errors='coerce')"
   ]
  },
  {
   "cell_type": "code",
   "execution_count": 17,
   "metadata": {},
   "outputs": [
    {
     "data": {
      "text/html": [
       "<div>\n",
       "<style scoped>\n",
       "    .dataframe tbody tr th:only-of-type {\n",
       "        vertical-align: middle;\n",
       "    }\n",
       "\n",
       "    .dataframe tbody tr th {\n",
       "        vertical-align: top;\n",
       "    }\n",
       "\n",
       "    .dataframe thead th {\n",
       "        text-align: right;\n",
       "    }\n",
       "</style>\n",
       "<table border=\"1\" class=\"dataframe\">\n",
       "  <thead>\n",
       "    <tr style=\"text-align: right;\">\n",
       "      <th></th>\n",
       "      <th>Title</th>\n",
       "      <th>Price</th>\n",
       "      <th>Długość karty</th>\n",
       "      <th>Ilość pamięci RAM</th>\n",
       "      <th>Rodzaj chipsetu</th>\n",
       "      <th>Taktowanie rdzenia w trybie boost</th>\n",
       "    </tr>\n",
       "  </thead>\n",
       "  <tbody>\n",
       "    <tr>\n",
       "      <th>0</th>\n",
       "      <td>Karta graficzna MSI GeForce RTX 4070 Ti SUPER ...</td>\n",
       "      <td>3699.00</td>\n",
       "      <td>242.0</td>\n",
       "      <td>16</td>\n",
       "      <td>GeForce RTX 4070 Ti Super</td>\n",
       "      <td>2655.0</td>\n",
       "    </tr>\n",
       "    <tr>\n",
       "      <th>1</th>\n",
       "      <td>Karta graficzna Gigabyte GeForce RTX 4060 Eagl...</td>\n",
       "      <td>1359.00</td>\n",
       "      <td>272.0</td>\n",
       "      <td>8</td>\n",
       "      <td>GeForce RTX 4060</td>\n",
       "      <td>2505.0</td>\n",
       "    </tr>\n",
       "    <tr>\n",
       "      <th>2</th>\n",
       "      <td>Karta graficzna Gigabyte GeForce RTX 4060 Wind...</td>\n",
       "      <td>1303.90</td>\n",
       "      <td>192.0</td>\n",
       "      <td>8</td>\n",
       "      <td>GeForce RTX 4060</td>\n",
       "      <td>2475.0</td>\n",
       "    </tr>\n",
       "    <tr>\n",
       "      <th>3</th>\n",
       "      <td>Karta graficzna ASRock Radeon RX 6800 XT Phant...</td>\n",
       "      <td>2510.66</td>\n",
       "      <td>330.0</td>\n",
       "      <td>16</td>\n",
       "      <td>Radeon RX 6800 XT</td>\n",
       "      <td>2310.0</td>\n",
       "    </tr>\n",
       "    <tr>\n",
       "      <th>4</th>\n",
       "      <td>Karta graficzna Asus Dual GeForce RTX 4060 EVO...</td>\n",
       "      <td>1299.00</td>\n",
       "      <td>227.0</td>\n",
       "      <td>8</td>\n",
       "      <td>GeForce RTX 4060</td>\n",
       "      <td>2535.0</td>\n",
       "    </tr>\n",
       "    <tr>\n",
       "      <th>...</th>\n",
       "      <td>...</td>\n",
       "      <td>...</td>\n",
       "      <td>...</td>\n",
       "      <td>...</td>\n",
       "      <td>...</td>\n",
       "      <td>...</td>\n",
       "    </tr>\n",
       "    <tr>\n",
       "      <th>295</th>\n",
       "      <td>Karta graficzna Asus TUF GeForce GTX 1660 Ti E...</td>\n",
       "      <td>1699.00</td>\n",
       "      <td>205.0</td>\n",
       "      <td>6</td>\n",
       "      <td>GeForce GTX 1660 Ti</td>\n",
       "      <td>1845.0</td>\n",
       "    </tr>\n",
       "    <tr>\n",
       "      <th>296</th>\n",
       "      <td>Karta graficzna XFX Speedster MERC 319 Radeon ...</td>\n",
       "      <td>2442.97</td>\n",
       "      <td>326.0</td>\n",
       "      <td>16</td>\n",
       "      <td>Radeon RX 7800 XT</td>\n",
       "      <td>2565.0</td>\n",
       "    </tr>\n",
       "    <tr>\n",
       "      <th>297</th>\n",
       "      <td>Karta graficzna Asus TUF GeForce GTX 1650 D6 G...</td>\n",
       "      <td>1139.00</td>\n",
       "      <td>204.0</td>\n",
       "      <td>4</td>\n",
       "      <td>GeForce GTX 1650</td>\n",
       "      <td>1680.0</td>\n",
       "    </tr>\n",
       "    <tr>\n",
       "      <th>298</th>\n",
       "      <td>Karta graficzna Zotac GeForce RTX 3060 Twin Ed...</td>\n",
       "      <td>1246.06</td>\n",
       "      <td>224.0</td>\n",
       "      <td>12</td>\n",
       "      <td>GeForce RTX 3060</td>\n",
       "      <td>1777.0</td>\n",
       "    </tr>\n",
       "    <tr>\n",
       "      <th>299</th>\n",
       "      <td>Karta graficzna Gigabyte GeForce RTX 3060 Wind...</td>\n",
       "      <td>1249.99</td>\n",
       "      <td>198.0</td>\n",
       "      <td>12</td>\n",
       "      <td>GeForce RTX 3060</td>\n",
       "      <td>1792.0</td>\n",
       "    </tr>\n",
       "  </tbody>\n",
       "</table>\n",
       "<p>300 rows × 6 columns</p>\n",
       "</div>"
      ],
      "text/plain": [
       "                                                 Title    Price  \\\n",
       "0    Karta graficzna MSI GeForce RTX 4070 Ti SUPER ...  3699.00   \n",
       "1    Karta graficzna Gigabyte GeForce RTX 4060 Eagl...  1359.00   \n",
       "2    Karta graficzna Gigabyte GeForce RTX 4060 Wind...  1303.90   \n",
       "3    Karta graficzna ASRock Radeon RX 6800 XT Phant...  2510.66   \n",
       "4    Karta graficzna Asus Dual GeForce RTX 4060 EVO...  1299.00   \n",
       "..                                                 ...      ...   \n",
       "295  Karta graficzna Asus TUF GeForce GTX 1660 Ti E...  1699.00   \n",
       "296  Karta graficzna XFX Speedster MERC 319 Radeon ...  2442.97   \n",
       "297  Karta graficzna Asus TUF GeForce GTX 1650 D6 G...  1139.00   \n",
       "298  Karta graficzna Zotac GeForce RTX 3060 Twin Ed...  1246.06   \n",
       "299  Karta graficzna Gigabyte GeForce RTX 3060 Wind...  1249.99   \n",
       "\n",
       "     Długość karty  Ilość pamięci RAM            Rodzaj chipsetu  \\\n",
       "0            242.0                 16  GeForce RTX 4070 Ti Super   \n",
       "1            272.0                  8           GeForce RTX 4060   \n",
       "2            192.0                  8           GeForce RTX 4060   \n",
       "3            330.0                 16          Radeon RX 6800 XT   \n",
       "4            227.0                  8           GeForce RTX 4060   \n",
       "..             ...                ...                        ...   \n",
       "295          205.0                  6        GeForce GTX 1660 Ti   \n",
       "296          326.0                 16          Radeon RX 7800 XT   \n",
       "297          204.0                  4           GeForce GTX 1650   \n",
       "298          224.0                 12           GeForce RTX 3060   \n",
       "299          198.0                 12           GeForce RTX 3060   \n",
       "\n",
       "     Taktowanie rdzenia w trybie boost  \n",
       "0                               2655.0  \n",
       "1                               2505.0  \n",
       "2                               2475.0  \n",
       "3                               2310.0  \n",
       "4                               2535.0  \n",
       "..                                 ...  \n",
       "295                             1845.0  \n",
       "296                             2565.0  \n",
       "297                             1680.0  \n",
       "298                             1777.0  \n",
       "299                             1792.0  \n",
       "\n",
       "[300 rows x 6 columns]"
      ]
     },
     "execution_count": 17,
     "metadata": {},
     "output_type": "execute_result"
    }
   ],
   "source": [
    "\n"
   ]
  },
  {
   "cell_type": "code",
   "execution_count": 18,
   "metadata": {},
   "outputs": [
    {
     "name": "stdout",
     "output_type": "stream",
     "text": [
      "              Rodzaj chipsetu         Price\n",
      "27           GeForce RTX 4090  10263.770000\n",
      "25           GeForce RTX 4080   5970.895000\n",
      "26     GeForce RTX 4080 Super   5052.406471\n",
      "28           Quadro RTX A4000   4981.990000\n",
      "50         Radeon RX 7900 XTX   4455.151667\n",
      "23        GeForce RTX 4070 Ti   4342.415000\n",
      "40          Radeon RX 6650 XT   4080.140000\n",
      "24  GeForce RTX 4070 Ti Super   3997.666667\n",
      "18        GeForce RTX 3070 Ti   3754.843333\n",
      "49          Radeon RX 7900 XT   3447.891250\n",
      "22     GeForce RTX 4070 Super   2972.094286\n",
      "17           GeForce RTX 3070   2936.465000\n",
      "21           GeForce RTX 4070   2875.868095\n",
      "48         Radeon RX 7900 GRE   2698.130000\n",
      "43          Radeon RX 6800 XT   2454.830000\n",
      "47          Radeon RX 7800 XT   2369.279231\n",
      "16        GeForce RTX 3060 Ti   2202.375000\n",
      "41          Radeon RX 6700 XT   2135.250000\n",
      "20        GeForce RTX 4060 Ti   1997.659667\n",
      "46          Radeon RX 7700 XT   1930.001111\n",
      "29               Quadro T1000   1885.530000\n",
      "42          Radeon RX 6750 XT   1702.456000\n",
      "10        GeForce GTX 1660 Ti   1699.000000\n",
      "12           GeForce RTX 2060   1637.220000\n",
      "35              Radeon RX 570   1498.380000\n",
      "45          Radeon RX 7600 XT   1496.143333\n",
      "13     GeForce RTX 2060 Super   1494.300000\n",
      "3                    Arc A770   1472.260000\n",
      "19           GeForce RTX 4060   1417.976667\n",
      "15           GeForce RTX 3060   1306.345000\n",
      "44             Radeon RX 7600   1245.118571\n",
      "39             Radeon RX 6600    926.818333\n",
      "14           GeForce RTX 3050    902.327000\n",
      "9            GeForce GTX 1650    871.485000\n",
      "2                    Arc A580    852.990000\n",
      "33          Radeon RX 5500 XT    804.200000\n",
      "38          Radeon RX 6500 XT    785.337500\n",
      "30                Quadro T400    689.000000\n",
      "8         GeForce GTX 1050 Ti    629.000000\n",
      "11            GeForce GTX 750    590.000000\n",
      "37             Radeon RX 6400    581.065000\n",
      "31         Radeon Pro WX 3200    580.610000\n",
      "34              Radeon RX 560    552.225000\n",
      "1                    Arc A380    544.960000\n",
      "36              Radeon RX 580    526.650000\n",
      "0                    Arc A310    459.000000\n",
      "7              GeForce GT 730    392.355000\n",
      "32              Radeon RX 550    391.760000\n",
      "4             GeForce GT 1030    364.270000\n",
      "6              GeForce GT 710    229.462500\n",
      "5              GeForce GT 210    146.120000\n"
     ]
    }
   ],
   "source": [
    "avg_price_chipset = df.groupby('Rodzaj chipsetu')['Price'].mean().reset_index().sort_values(by='Price', ascending=False)\n",
    "print(avg_price_chipset)"
   ]
  },
  {
   "cell_type": "code",
   "execution_count": 21,
   "metadata": {},
   "outputs": [
    {
     "name": "stdout",
     "output_type": "stream",
     "text": [
      "Note: you may need to restart the kernel to use updated packages.Collecting seaborn\n",
      "  Downloading seaborn-0.13.2-py3-none-any.whl.metadata (5.4 kB)\n",
      "Requirement already satisfied: numpy!=1.24.0,>=1.20 in c:\\users\\zakub\\appdata\\local\\programs\\python\\python312\\lib\\site-packages (from seaborn) (1.26.2)\n",
      "Requirement already satisfied: pandas>=1.2 in c:\\users\\zakub\\appdata\\local\\programs\\python\\python312\\lib\\site-packages (from seaborn) (2.1.3)\n",
      "Requirement already satisfied: matplotlib!=3.6.1,>=3.4 in c:\\users\\zakub\\appdata\\local\\programs\\python\\python312\\lib\\site-packages (from seaborn) (3.9.0)\n",
      "Requirement already satisfied: contourpy>=1.0.1 in c:\\users\\zakub\\appdata\\local\\programs\\python\\python312\\lib\\site-packages (from matplotlib!=3.6.1,>=3.4->seaborn) (1.2.1)\n",
      "Requirement already satisfied: cycler>=0.10 in c:\\users\\zakub\\appdata\\local\\programs\\python\\python312\\lib\\site-packages (from matplotlib!=3.6.1,>=3.4->seaborn) (0.12.1)\n",
      "Requirement already satisfied: fonttools>=4.22.0 in c:\\users\\zakub\\appdata\\local\\programs\\python\\python312\\lib\\site-packages (from matplotlib!=3.6.1,>=3.4->seaborn) (4.53.0)\n",
      "Requirement already satisfied: kiwisolver>=1.3.1 in c:\\users\\zakub\\appdata\\local\\programs\\python\\python312\\lib\\site-packages (from matplotlib!=3.6.1,>=3.4->seaborn) (1.4.5)\n",
      "Requirement already satisfied: packaging>=20.0 in c:\\users\\zakub\\appdata\\roaming\\python\\python312\\site-packages (from matplotlib!=3.6.1,>=3.4->seaborn) (23.2)\n",
      "Requirement already satisfied: pillow>=8 in c:\\users\\zakub\\appdata\\local\\programs\\python\\python312\\lib\\site-packages (from matplotlib!=3.6.1,>=3.4->seaborn) (10.4.0)\n",
      "Requirement already satisfied: pyparsing>=2.3.1 in c:\\users\\zakub\\appdata\\local\\programs\\python\\python312\\lib\\site-packages (from matplotlib!=3.6.1,>=3.4->seaborn) (3.1.2)\n",
      "Requirement already satisfied: python-dateutil>=2.7 in c:\\users\\zakub\\appdata\\local\\programs\\python\\python312\\lib\\site-packages (from matplotlib!=3.6.1,>=3.4->seaborn) (2.8.2)\n",
      "Requirement already satisfied: pytz>=2020.1 in c:\\users\\zakub\\appdata\\local\\programs\\python\\python312\\lib\\site-packages (from pandas>=1.2->seaborn) (2023.3.post1)\n",
      "Requirement already satisfied: tzdata>=2022.1 in c:\\users\\zakub\\appdata\\local\\programs\\python\\python312\\lib\\site-packages (from pandas>=1.2->seaborn) (2023.3)\n",
      "Requirement already satisfied: six>=1.5 in c:\\users\\zakub\\appdata\\local\\programs\\python\\python312\\lib\\site-packages (from python-dateutil>=2.7->matplotlib!=3.6.1,>=3.4->seaborn) (1.16.0)\n",
      "Downloading seaborn-0.13.2-py3-none-any.whl (294 kB)\n",
      "   ---------------------------------------- 0.0/294.9 kB ? eta -:--:--\n",
      "   - -------------------------------------- 10.2/294.9 kB ? eta -:--:--\n",
      "   ----- --------------------------------- 41.0/294.9 kB 495.5 kB/s eta 0:00:01\n",
      "   -------------------------------------- - 286.7/294.9 kB 2.5 MB/s eta 0:00:01\n",
      "   ---------------------------------------- 294.9/294.9 kB 2.3 MB/s eta 0:00:00\n",
      "Installing collected packages: seaborn\n",
      "Successfully installed seaborn-0.13.2\n",
      "\n"
     ]
    },
    {
     "name": "stderr",
     "output_type": "stream",
     "text": [
      "\n",
      "[notice] A new release of pip is available: 24.0 -> 24.2\n",
      "[notice] To update, run: python.exe -m pip install --upgrade pip\n"
     ]
    }
   ],
   "source": [
    "pip install seaborn"
   ]
  },
  {
   "cell_type": "code",
   "execution_count": 22,
   "metadata": {},
   "outputs": [],
   "source": [
    "import matplotlib.pyplot as plt\n",
    "import seaborn as sns"
   ]
  },
  {
   "cell_type": "code",
   "execution_count": 23,
   "metadata": {},
   "outputs": [
    {
     "name": "stdout",
     "output_type": "stream",
     "text": [
      "Korelacja między ilością pamięci RAM a ceną: 0.72\n"
     ]
    },
    {
     "data": {
      "image/png": "[encoded data removed]",
      "text/plain": [
       "<Figure size 1000x600 with 1 Axes>"
      ]
     },
     "metadata": {},
     "output_type": "display_data"
    }
   ],
   "source": [
    "df_corr = df.dropna(subset=['Ilość pamięci RAM', 'Price'])\n",
    "\n",
    "correlation = df_corr['Ilość pamięci RAM'].corr(df_corr['Price'])\n",
    "print(f\"Korelacja między ilością pamięci RAM a ceną: {correlation:.2f}\")\n",
    "\n",
    "plt.figure(figsize=(10, 6))\n",
    "sns.scatterplot(data=df_corr, x='Ilość pamięci RAM', y='Price')\n",
    "plt.title('Korelacja między ilością pamięci RAM a ceną')\n",
    "plt.xlabel('Ilość pamięci RAM (GB)')\n",
    "plt.ylabel('Cena (zł)')\n",
    "plt.show()"
   ]
  },
  {
   "cell_type": "code",
   "execution_count": 24,
   "metadata": {},
   "outputs": [],
   "source": [
    "df_length = df.dropna(subset=['Długość karty'])"
   ]
  },
  {
   "cell_type": "code",
   "execution_count": 25,
   "metadata": {},
   "outputs": [
    {
     "data": {
      "application/vnd.plotly.v1+json": {
       "config": {
        "plotlyServerURL": "https://plot.ly"
       },
       "data": [
        {
         "alignmentgroup": "True",
         "bingroup": "x",
         "hovertemplate": "Długość karty=%{x}<br>count=%{y}<extra></extra>",
         "legendgroup": "",
         "marker": {
          "color": "#636efa",
          "pattern": {
           "shape": ""
          }
         },
         "name": "",
         "nbinsx": 20,
         "offsetgroup": "",
         "orientation": "v",
         "showlegend": false,
         "type": "histogram",
         "x": [
          242,
          272,
          192,
          330,
          227,
          261,
          305,
          247,
          198,
          332,
          247,
          269,
          200,
          269,
          235,
          200,
          250,
          250,
          310,
          307,
          199,
          302,
          247,
          199,
          199,
          307,
          235,
          205,
          322,
          307,
          280,
          174,
          242,
          242,
          307,
          307,
          322,
          322,
          242,
          308,
          247,
          242,
          308,
          312,
          308,
          307,
          167,
          247,
          308,
          282,
          261,
          167,
          282,
          150,
          158,
          193,
          245,
          240,
          302,
          267,
          269,
          146,
          281,
          282,
          329,
          272,
          151,
          241,
          169,
          320,
          280,
          300,
          313,
          358,
          272,
          280,
          173,
          303,
          281,
          329,
          261,
          320,
          320,
          307,
          301,
          281,
          349,
          305,
          330,
          150,
          260,
          199,
          304,
          320,
          267,
          281,
          242,
          243,
          323,
          300,
          330,
          281,
          300,
          320,
          330,
          145,
          328,
          267,
          261,
          353,
          342,
          345,
          194,
          300,
          227,
          300,
          266,
          320,
          148,
          240,
          205,
          335,
          307,
          300,
          329,
          307,
          220,
          174,
          270,
          303,
          305,
          250,
          227,
          332,
          300,
          334,
          301,
          342,
          357,
          274,
          168,
          170,
          305,
          320,
          304,
          245,
          269,
          313,
          170,
          250,
          282,
          305,
          227,
          340,
          328,
          269,
          330,
          331,
          358,
          162,
          192,
          250,
          156,
          261,
          190,
          242,
          169,
          156,
          179,
          212,
          240,
          198,
          210,
          241,
          245,
          250,
          245,
          300,
          201,
          227,
          329,
          344,
          269,
          301,
          332,
          333,
          166,
          200,
          250,
          304,
          272,
          201,
          280,
          303,
          269,
          311,
          307,
          252,
          248,
          267,
          261,
          301,
          320,
          339,
          329,
          305,
          305,
          300,
          305,
          358,
          162,
          240,
          270,
          222,
          191,
          186,
          250,
          210,
          202,
          163,
          267,
          182,
          242,
          227,
          272,
          269,
          227,
          320,
          201,
          261,
          227,
          280,
          234,
          269,
          227,
          331,
          261,
          333,
          312,
          336,
          337,
          308,
          329,
          241,
          342,
          348,
          200,
          286,
          260,
          240,
          320,
          245,
          301,
          184,
          286,
          235,
          240,
          172,
          227,
          235,
          250,
          300,
          305,
          299,
          115,
          324,
          224,
          245,
          210,
          319,
          203,
          305,
          146,
          240,
          172,
          215,
          342,
          260,
          332,
          150,
          201,
          329,
          335,
          269,
          316,
          245,
          331,
          353,
          205,
          326,
          204,
          224,
          198
         ],
         "xaxis": "x",
         "yaxis": "y"
        }
       ],
       "layout": {
        "barmode": "relative",
        "legend": {
         "tracegroupgap": 0
        },
        "template": {
         "data": {
          "bar": [
           {
            "error_x": {
             "color": "#2a3f5f"
            },
            "error_y": {
             "color": "#2a3f5f"
            },
            "marker": {
             "line": {
              "color": "#E5ECF6",
              "width": 0.5
             },
             "pattern": {
              "fillmode": "overlay",
              "size": 10,
              "solidity": 0.2
             }
            },
            "type": "bar"
           }
          ],
          "barpolar": [
           {
            "marker": {
             "line": {
              "color": "#E5ECF6",
              "width": 0.5
             },
             "pattern": {
              "fillmode": "overlay",
              "size": 10,
              "solidity": 0.2
             }
            },
            "type": "barpolar"
           }
          ],
          "carpet": [
           {
            "aaxis": {
             "endlinecolor": "#2a3f5f",
             "gridcolor": "white",
             "linecolor": "white",
             "minorgridcolor": "white",
             "startlinecolor": "#2a3f5f"
            },
            "baxis": {
             "endlinecolor": "#2a3f5f",
             "gridcolor": "white",
             "linecolor": "white",
             "minorgridcolor": "white",
             "startlinecolor": "#2a3f5f"
            },
            "type": "carpet"
           }
          ],
          "choropleth": [
           {
            "colorbar": {
             "outlinewidth": 0,
             "ticks": ""
            },
            "type": "choropleth"
           }
          ],
          "contour": [
           {
            "colorbar": {
             "outlinewidth": 0,
             "ticks": ""
            },
            "colorscale": [
             [
              0,
              "#0d0887"
             ],
             [
              0.1111111111111111,
              "#46039f"
             ],
             [
              0.2222222222222222,
              "#7201a8"
             ],
             [
              0.3333333333333333,
              "#9c179e"
             ],
             [
              0.4444444444444444,
              "#bd3786"
             ],
             [
              0.5555555555555556,
              "#d8576b"
             ],
             [
              0.6666666666666666,
              "#ed7953"
             ],
             [
              0.7777777777777778,
              "#fb9f3a"
             ],
             [
              0.8888888888888888,
              "#fdca26"
             ],
             [
              1,
              "#f0f921"
             ]
            ],
            "type": "contour"
           }
          ],
          "contourcarpet": [
           {
            "colorbar": {
             "outlinewidth": 0,
             "ticks": ""
            },
            "type": "contourcarpet"
           }
          ],
          "heatmap": [
           {
            "colorbar": {
             "outlinewidth": 0,
             "ticks": ""
            },
            "colorscale": [
             [
              0,
              "#0d0887"
             ],
             [
              0.1111111111111111,
              "#46039f"
             ],
             [
              0.2222222222222222,
              "#7201a8"
             ],
             [
              0.3333333333333333,
              "#9c179e"
             ],
             [
              0.4444444444444444,
              "#bd3786"
             ],
             [
              0.5555555555555556,
              "#d8576b"
             ],
             [
              0.6666666666666666,
              "#ed7953"
             ],
             [
              0.7777777777777778,
              "#fb9f3a"
             ],
             [
              0.8888888888888888,
              "#fdca26"
             ],
             [
              1,
              "#f0f921"
             ]
            ],
            "type": "heatmap"
           }
          ],
          "heatmapgl": [
           {
            "colorbar": {
             "outlinewidth": 0,
             "ticks": ""
            },
            "colorscale": [
             [
              0,
              "#0d0887"
             ],
             [
              0.1111111111111111,
              "#46039f"
             ],
             [
              0.2222222222222222,
              "#7201a8"
             ],
             [
              0.3333333333333333,
              "#9c179e"
             ],
             [
              0.4444444444444444,
              "#bd3786"
             ],
             [
              0.5555555555555556,
              "#d8576b"
             ],
             [
              0.6666666666666666,
              "#ed7953"
             ],
             [
              0.7777777777777778,
              "#fb9f3a"
             ],
             [
              0.8888888888888888,
              "#fdca26"
             ],
             [
              1,
              "#f0f921"
             ]
            ],
            "type": "heatmapgl"
           }
          ],
          "histogram": [
           {
            "marker": {
             "pattern": {
              "fillmode": "overlay",
              "size": 10,
              "solidity": 0.2
             }
            },
            "type": "histogram"
           }
          ],
          "histogram2d": [
           {
            "colorbar": {
             "outlinewidth": 0,
             "ticks": ""
            },
            "colorscale": [
             [
              0,
              "#0d0887"
             ],
             [
              0.1111111111111111,
              "#46039f"
             ],
             [
              0.2222222222222222,
              "#7201a8"
             ],
             [
              0.3333333333333333,
              "#9c179e"
             ],
             [
              0.4444444444444444,
              "#bd3786"
             ],
             [
              0.5555555555555556,
              "#d8576b"
             ],
             [
              0.6666666666666666,
              "#ed7953"
             ],
             [
              0.7777777777777778,
              "#fb9f3a"
             ],
             [
              0.8888888888888888,
              "#fdca26"
             ],
             [
              1,
              "#f0f921"
             ]
            ],
            "type": "histogram2d"
           }
          ],
          "histogram2dcontour": [
           {
            "colorbar": {
             "outlinewidth": 0,
             "ticks": ""
            },
            "colorscale": [
             [
              0,
              "#0d0887"
             ],
             [
              0.1111111111111111,
              "#46039f"
             ],
             [
              0.2222222222222222,
              "#7201a8"
             ],
             [
              0.3333333333333333,
              "#9c179e"
             ],
             [
              0.4444444444444444,
              "#bd3786"
             ],
             [
              0.5555555555555556,
              "#d8576b"
             ],
             [
              0.6666666666666666,
              "#ed7953"
             ],
             [
              0.7777777777777778,
              "#fb9f3a"
             ],
             [
              0.8888888888888888,
              "#fdca26"
             ],
             [
              1,
              "#f0f921"
             ]
            ],
            "type": "histogram2dcontour"
           }
          ],
          "mesh3d": [
           {
            "colorbar": {
             "outlinewidth": 0,
             "ticks": ""
            },
            "type": "mesh3d"
           }
          ],
          "parcoords": [
           {
            "line": {
             "colorbar": {
              "outlinewidth": 0,
              "ticks": ""
             }
            },
            "type": "parcoords"
           }
          ],
          "pie": [
           {
            "automargin": true,
            "type": "pie"
           }
          ],
          "scatter": [
           {
            "fillpattern": {
             "fillmode": "overlay",
             "size": 10,
             "solidity": 0.2
            },
            "type": "scatter"
           }
          ],
          "scatter3d": [
           {
            "line": {
             "colorbar": {
              "outlinewidth": 0,
              "ticks": ""
             }
            },
            "marker": {
             "colorbar": {
              "outlinewidth": 0,
              "ticks": ""
             }
            },
            "type": "scatter3d"
           }
          ],
          "scattercarpet": [
           {
            "marker": {
             "colorbar": {
              "outlinewidth": 0,
              "ticks": ""
             }
            },
            "type": "scattercarpet"
           }
          ],
          "scattergeo": [
           {
            "marker": {
             "colorbar": {
              "outlinewidth": 0,
              "ticks": ""
             }
            },
            "type": "scattergeo"
           }
          ],
          "scattergl": [
           {
            "marker": {
             "colorbar": {
              "outlinewidth": 0,
              "ticks": ""
             }
            },
            "type": "scattergl"
           }
          ],
          "scattermapbox": [
           {
            "marker": {
             "colorbar": {
              "outlinewidth": 0,
              "ticks": ""
             }
            },
            "type": "scattermapbox"
           }
          ],
          "scatterpolar": [
           {
            "marker": {
             "colorbar": {
              "outlinewidth": 0,
              "ticks": ""
             }
            },
            "type": "scatterpolar"
           }
          ],
          "scatterpolargl": [
           {
            "marker": {
             "colorbar": {
              "outlinewidth": 0,
              "ticks": ""
             }
            },
            "type": "scatterpolargl"
           }
          ],
          "scatterternary": [
           {
            "marker": {
             "colorbar": {
              "outlinewidth": 0,
              "ticks": ""
             }
            },
            "type": "scatterternary"
           }
          ],
          "surface": [
           {
            "colorbar": {
             "outlinewidth": 0,
             "ticks": ""
            },
            "colorscale": [
             [
              0,
              "#0d0887"
             ],
             [
              0.1111111111111111,
              "#46039f"
             ],
             [
              0.2222222222222222,
              "#7201a8"
             ],
             [
              0.3333333333333333,
              "#9c179e"
             ],
             [
              0.4444444444444444,
              "#bd3786"
             ],
             [
              0.5555555555555556,
              "#d8576b"
             ],
             [
              0.6666666666666666,
              "#ed7953"
             ],
             [
              0.7777777777777778,
              "#fb9f3a"
             ],
             [
              0.8888888888888888,
              "#fdca26"
             ],
             [
              1,
              "#f0f921"
             ]
            ],
            "type": "surface"
           }
          ],
          "table": [
           {
            "cells": {
             "fill": {
              "color": "#EBF0F8"
             },
             "line": {
              "color": "white"
             }
            },
            "header": {
             "fill": {
              "color": "#C8D4E3"
             },
             "line": {
              "color": "white"
             }
            },
            "type": "table"
           }
          ]
         },
         "layout": {
          "annotationdefaults": {
           "arrowcolor": "#2a3f5f",
           "arrowhead": 0,
           "arrowwidth": 1
          },
          "autotypenumbers": "strict",
          "coloraxis": {
           "colorbar": {
            "outlinewidth": 0,
            "ticks": ""
           }
          },
          "colorscale": {
           "diverging": [
            [
             0,
             "#8e0152"
            ],
            [
             0.1,
             "#c51b7d"
            ],
            [
             0.2,
             "#de77ae"
            ],
            [
             0.3,
             "#f1b6da"
            ],
            [
             0.4,
             "#fde0ef"
            ],
            [
             0.5,
             "#f7f7f7"
            ],
            [
             0.6,
             "#e6f5d0"
            ],
            [
             0.7,
             "#b8e186"
            ],
            [
             0.8,
             "#7fbc41"
            ],
            [
             0.9,
             "#4d9221"
            ],
            [
             1,
             "#276419"
            ]
           ],
           "sequential": [
            [
             0,
             "#0d0887"
            ],
            [
             0.1111111111111111,
             "#46039f"
            ],
            [
             0.2222222222222222,
             "#7201a8"
            ],
            [
             0.3333333333333333,
             "#9c179e"
            ],
            [
             0.4444444444444444,
             "#bd3786"
            ],
            [
             0.5555555555555556,
             "#d8576b"
            ],
            [
             0.6666666666666666,
             "#ed7953"
            ],
            [
             0.7777777777777778,
             "#fb9f3a"
            ],
            [
             0.8888888888888888,
             "#fdca26"
            ],
            [
             1,
             "#f0f921"
            ]
           ],
           "sequentialminus": [
            [
             0,
             "#0d0887"
            ],
            [
             0.1111111111111111,
             "#46039f"
            ],
            [
             0.2222222222222222,
             "#7201a8"
            ],
            [
             0.3333333333333333,
             "#9c179e"
            ],
            [
             0.4444444444444444,
             "#bd3786"
            ],
            [
             0.5555555555555556,
             "#d8576b"
            ],
            [
             0.6666666666666666,
             "#ed7953"
            ],
            [
             0.7777777777777778,
             "#fb9f3a"
            ],
            [
             0.8888888888888888,
             "#fdca26"
            ],
            [
             1,
             "#f0f921"
            ]
           ]
          },
          "colorway": [
           "#636efa",
           "#EF553B",
           "#00cc96",
           "#ab63fa",
           "#FFA15A",
           "#19d3f3",
           "#FF6692",
           "#B6E880",
           "#FF97FF",
           "#FECB52"
          ],
          "font": {
           "color": "#2a3f5f"
          },
          "geo": {
           "bgcolor": "white",
           "lakecolor": "white",
           "landcolor": "#E5ECF6",
           "showlakes": true,
           "showland": true,
           "subunitcolor": "white"
          },
          "hoverlabel": {
           "align": "left"
          },
          "hovermode": "closest",
          "mapbox": {
           "style": "light"
          },
          "paper_bgcolor": "white",
          "plot_bgcolor": "#E5ECF6",
          "polar": {
           "angularaxis": {
            "gridcolor": "white",
            "linecolor": "white",
            "ticks": ""
           },
           "bgcolor": "#E5ECF6",
           "radialaxis": {
            "gridcolor": "white",
            "linecolor": "white",
            "ticks": ""
           }
          },
          "scene": {
           "xaxis": {
            "backgroundcolor": "#E5ECF6",
            "gridcolor": "white",
            "gridwidth": 2,
            "linecolor": "white",
            "showbackground": true,
            "ticks": "",
            "zerolinecolor": "white"
           },
           "yaxis": {
            "backgroundcolor": "#E5ECF6",
            "gridcolor": "white",
            "gridwidth": 2,
            "linecolor": "white",
            "showbackground": true,
            "ticks": "",
            "zerolinecolor": "white"
           },
           "zaxis": {
            "backgroundcolor": "#E5ECF6",
            "gridcolor": "white",
            "gridwidth": 2,
            "linecolor": "white",
            "showbackground": true,
            "ticks": "",
            "zerolinecolor": "white"
           }
          },
          "shapedefaults": {
           "line": {
            "color": "#2a3f5f"
           }
          },
          "ternary": {
           "aaxis": {
            "gridcolor": "white",
            "linecolor": "white",
            "ticks": ""
           },
           "baxis": {
            "gridcolor": "white",
            "linecolor": "white",
            "ticks": ""
           },
           "bgcolor": "#E5ECF6",
           "caxis": {
            "gridcolor": "white",
            "linecolor": "white",
            "ticks": ""
           }
          },
          "title": {
           "x": 0.05
          },
          "xaxis": {
           "automargin": true,
           "gridcolor": "white",
           "linecolor": "white",
           "ticks": "",
           "title": {
            "standoff": 15
           },
           "zerolinecolor": "white",
           "zerolinewidth": 2
          },
          "yaxis": {
           "automargin": true,
           "gridcolor": "white",
           "linecolor": "white",
           "ticks": "",
           "title": {
            "standoff": 15
           },
           "zerolinecolor": "white",
           "zerolinewidth": 2
          }
         }
        },
        "title": {
         "text": "Rozkład długości kart graficznych"
        },
        "xaxis": {
         "anchor": "y",
         "domain": [
          0,
          1
         ],
         "title": {
          "text": "Długość karty"
         }
        },
        "yaxis": {
         "anchor": "x",
         "domain": [
          0,
          1
         ],
         "title": {
          "text": "count"
         }
        }
       }
      }
     },
     "metadata": {},
     "output_type": "display_data"
    }
   ],
   "source": [
    "fig = px.histogram(df_length, x='Długość karty', nbins=20, title='Rozkład długości kart graficznych')\n",
    "fig.show()"
   ]
  },
  {
   "cell_type": "code",
   "execution_count": 26,
   "metadata": {},
   "outputs": [
    {
     "name": "stdout",
     "output_type": "stream",
     "text": [
      "                                                 Title     Price\n",
      "86   Karta graficzna Asus TUF Gaming GeForce RTX 40...  11060.32\n",
      "73   Karta graficzna Asus ROG Strix GeForce RTX 409...  10879.00\n",
      "30   Karta graficzna MSI GeForce RTX 4090 Suprim Li...  10499.00\n",
      "264  Karta graficzna MSI Radeon RX 6650 XT Mech 2X ...   9999.00\n",
      "37   Karta graficzna MSI GeForce RTX 4090 Ventus 3X...   8616.76\n"
     ]
    }
   ],
   "source": [
    "top5_expensive = df.sort_values(by='Price', ascending=False).head(5)\n",
    "print(top5_expensive[['Title', 'Price']])"
   ]
  },
  {
   "cell_type": "code",
   "execution_count": 27,
   "metadata": {},
   "outputs": [],
   "source": [
    "df_boost = df.dropna(subset=['Taktowanie rdzenia w trybie boost'])"
   ]
  },
  {
   "cell_type": "code",
   "execution_count": 28,
   "metadata": {},
   "outputs": [
    {
     "data": {
      "application/vnd.plotly.v1+json": {
       "config": {
        "plotlyServerURL": "https://plot.ly"
       },
       "data": [
        {
         "alignmentgroup": "True",
         "hovertemplate": "Rodzaj chipsetu=%{x}<br>Taktowanie rdzenia w trybie boost=%{y}<extra></extra>",
         "legendgroup": "",
         "marker": {
          "color": "#636efa"
         },
         "name": "",
         "notched": false,
         "offsetgroup": "",
         "orientation": "v",
         "showlegend": false,
         "type": "box",
         "x": [
          "GeForce RTX 4070 Ti Super",
          "GeForce RTX 4060",
          "GeForce RTX 4060",
          "Radeon RX 6800 XT",
          "GeForce RTX 4060",
          "GeForce RTX 4070 Super",
          "GeForce RTX 4060 Ti",
          "GeForce RTX 4060 Ti",
          "GeForce RTX 3060",
          "GeForce RTX 4080 Super",
          "GeForce RTX 4070 Super",
          "GeForce RTX 4070 Super",
          "Radeon RX 6600",
          "Radeon RX 6600",
          "GeForce RTX 3060",
          "GeForce RTX 3060",
          "Radeon RX 6750 XT",
          "Radeon RX 6750 XT",
          "Radeon RX 6800 XT",
          "GeForce RTX 4060 Ti",
          "GeForce RTX 4060",
          "Radeon RX 7700 XT",
          "GeForce RTX 4060",
          "GeForce RTX 4060",
          "GeForce RTX 4060 Ti",
          "GeForce RTX 4070 Ti Super",
          "GeForce RTX 3060",
          "GeForce RTX 3050",
          "GeForce RTX 4080 Super",
          "GeForce RTX 4060 Ti",
          "GeForce RTX 4090",
          "GeForce RTX 3050",
          "GeForce RTX 4070 Super",
          "GeForce RTX 4070 Super",
          "GeForce RTX 4070 Super",
          "GeForce RTX 4070 Ti Super",
          "GeForce RTX 4080 Super",
          "GeForce RTX 4090",
          "GeForce RTX 4070 Ti Super",
          "GeForce RTX 4070 Ti Super",
          "GeForce RTX 4060 Ti",
          "GeForce RTX 4070",
          "GeForce RTX 4070 Super",
          "GeForce RTX 4080 Super",
          "GeForce RTX 4060 Ti",
          "GeForce RTX 4060 Ti",
          "GeForce RTX 4060",
          "GeForce RTX 4060",
          "GeForce RTX 4060 Ti",
          "GeForce RTX 3060",
          "GeForce RTX 4070",
          "GeForce GT 1030",
          "Radeon RX 6600",
          "GeForce GT 1030",
          "Radeon RX 550",
          "Radeon RX 6600",
          "GeForce RTX 3060",
          "Radeon RX 7600",
          "Radeon RX 7800 XT",
          "GeForce RTX 4070",
          "GeForce RTX 4070",
          "GeForce RTX 4060",
          "Radeon RX 7600",
          "GeForce RTX 4070",
          "GeForce RTX 4060 Ti",
          "Radeon RX 6600",
          "GeForce GT 1030",
          "Radeon RX 7900 XTX",
          "Radeon RX 7700 XT",
          "GeForce RTX 4070 Super",
          "Radeon RX 7900 XT",
          "GeForce RTX 4090",
          "GeForce RTX 4060 Ti",
          "Radeon RX 7800 XT",
          "GeForce GT 1030",
          "Radeon RX 6750 XT",
          "GeForce RTX 4060",
          "GeForce RTX 4070 Ti Super",
          "GeForce RTX 4070 Ti Super",
          "Radeon RX 7800 XT",
          "Radeon RX 7800 XT",
          "GeForce RTX 4070 Super",
          "GeForce RTX 4070",
          "GeForce RTX 4060 Ti",
          "GeForce RTX 4090",
          "GeForce RTX 4070 Super",
          "Radeon RX 7900 XTX",
          "GeForce GT 1030",
          "GeForce RTX 4060",
          "GeForce RTX 4060 Ti",
          "Radeon RX 7800 XT",
          "Radeon RX 7900 XT",
          "Radeon RX 7800 XT",
          "GeForce RTX 4060 Ti",
          "GeForce RTX 4070",
          "Radeon RX 6600",
          "Radeon RX 6750 XT",
          "GeForce RTX 4070 Super",
          "GeForce RTX 4080 Super",
          "Radeon RX 7600 XT",
          "GeForce RTX 4060",
          "Radeon RX 7700 XT",
          "Radeon RX 7900 XT",
          "Radeon RX 7800 XT",
          "GeForce RTX 4070 Super",
          "GeForce RTX 4070 Ti Super",
          "Radeon RX 7900 XT",
          "GeForce RTX 4070 Ti Super",
          "Radeon RX 7900 XTX",
          "GeForce RTX 4060 Ti",
          "GeForce RTX 4070 Super",
          "GeForce RTX 4080 Super",
          "Radeon RX 7700 XT",
          "Radeon RX 7900 GRE",
          "Radeon RX 7600",
          "Radeon RX 7700 XT",
          "GeForce RTX 4070",
          "GeForce RTX 4070 Ti Super",
          "GeForce RTX 4080 Super",
          "GeForce RTX 4070 Super",
          "GeForce GTX 1650",
          "GeForce RTX 3050",
          "Radeon RX 7600",
          "Radeon RX 7600",
          "Radeon RX 7600",
          "GeForce RTX 4060 Ti",
          "GeForce RTX 4060 Ti",
          "Radeon RX 7900 GRE",
          "GeForce RTX 4070 Super",
          "GeForce RTX 4070",
          "GeForce RTX 4070 Super",
          "GeForce RTX 4070 Super",
          "GeForce RTX 4080 Super",
          "Radeon RX 7600",
          "GeForce RTX 4060",
          "Radeon RX 6750 XT",
          "Radeon RX 7700 XT",
          "Radeon RX 7700 XT",
          "GeForce RTX 4060 Ti",
          "GeForce RTX 4070",
          "Radeon RX 7900 XTX",
          "Radeon RX 6400",
          "GeForce RTX 4060",
          "GeForce RTX 4070",
          "Arc A770",
          "GeForce RTX 4060 Ti",
          "GeForce RTX 4080 Super",
          "Radeon RX 7700 XT",
          "GeForce RTX 4070 Super",
          "Radeon RX 7900 XT",
          "Radeon RX 7900 XT",
          "GeForce RTX 4080 Super",
          "GeForce RTX 3050",
          "GeForce RTX 3050",
          "Radeon RX 7600 XT",
          "Quadro T1000",
          "GeForce RTX 4070 Super",
          "Arc A380",
          "Radeon RX 560",
          "Arc A310",
          "Quadro T400",
          "GeForce GTX 1650",
          "Radeon RX 570",
          "GeForce GTX 1650",
          "Radeon RX 6650 XT",
          "GeForce RTX 3060",
          "GeForce RTX 4060",
          "Radeon RX 7600 XT",
          "GeForce RTX 4060 Ti",
          "GeForce RTX 4060 Ti",
          "GeForce RTX 4060 Ti",
          "GeForce RTX 4060 Ti",
          "GeForce RTX 4070",
          "GeForce RTX 4070",
          "GeForce RTX 4070 Super",
          "Radeon RX 7900 XT",
          "Radeon RX 7900 GRE",
          "GeForce RTX 4060 Ti",
          "Radeon RX 7800 XT",
          "GeForce RTX 4070 Ti Super",
          "Radeon RX 5500 XT",
          "GeForce RTX 3050",
          "Radeon RX 6650 XT",
          "GeForce RTX 4060",
          "Radeon RX 7600 XT",
          "GeForce RTX 4060 Ti",
          "GeForce RTX 4060 Ti",
          "Radeon RX 7800 XT",
          "Radeon RX 7800 XT",
          "GeForce RTX 4070",
          "GeForce RTX 4060 Ti",
          "GeForce RTX 4070",
          "GeForce RTX 4070 Super",
          "GeForce RTX 4070",
          "GeForce RTX 4070 Super",
          "GeForce RTX 4070 Super",
          "GeForce RTX 4070",
          "Radeon RX 7900 XT",
          "GeForce RTX 4070 Super",
          "GeForce RTX 4070 Ti Super",
          "GeForce RTX 4070 Ti Super",
          "GeForce RTX 4070 Ti Super",
          "GeForce RTX 4070 Ti Super",
          "GeForce RTX 4070 Ti Super",
          "GeForce RTX 4080 Super",
          "Radeon RX 6400",
          "Radeon RX 6500 XT",
          "Arc A580",
          "GeForce GTX 1650",
          "GeForce RTX 3050",
          "GeForce RTX 3050",
          "GeForce RTX 3050",
          "GeForce RTX 4060",
          "GeForce RTX 4060",
          "GeForce RTX 4060",
          "GeForce RTX 4060",
          "Radeon RX 7600 XT",
          "GeForce RTX 4060",
          "GeForce RTX 3060 Ti",
          "Radeon RX 7600 XT",
          "GeForce RTX 4060",
          "GeForce RTX 4060 Ti",
          "GeForce RTX 4060 Ti",
          "Radeon RX 7700 XT",
          "GeForce RTX 4070",
          "GeForce RTX 4070",
          "GeForce RTX 4070 Super",
          "Radeon RX 7900 GRE",
          "GeForce RTX 4070 Super",
          "GeForce RTX 4070 Super",
          "GeForce RTX 4070 Super",
          "GeForce RTX 4070 Ti Super",
          "GeForce RTX 4070 Ti Super",
          "GeForce RTX 4070 Ti Super",
          "GeForce RTX 4070 Ti Super",
          "GeForce RTX 4070 Ti Super",
          "GeForce RTX 4080 Super",
          "GeForce RTX 4080 Super",
          "GeForce RTX 4080 Super",
          "Quadro RTX A4000",
          "GeForce RTX 4080",
          "GeForce RTX 4080 Super",
          "GeForce RTX 4080 Super",
          "GeForce RTX 3070",
          "Radeon RX 6700 XT",
          "Radeon RX 570",
          "Radeon RX 7800 XT",
          "GeForce RTX 3060",
          "GeForce RTX 3060 Ti",
          "GeForce GT 1030",
          "GeForce RTX 3060 Ti",
          "GeForce RTX 2060 Super",
          "GeForce RTX 3060",
          "GeForce GTX 1650",
          "GeForce RTX 4060 Ti",
          "Radeon RX 6650 XT",
          "GeForce RTX 4060",
          "GeForce RTX 4070 Ti",
          "GeForce RTX 3070 Ti",
          "GeForce RTX 3070 Ti",
          "GeForce RTX 3060",
          "GeForce RTX 3060",
          "GeForce RTX 2060",
          "GeForce RTX 3060 Ti",
          "GeForce GTX 1050 Ti",
          "GeForce RTX 4070 Ti",
          "GeForce RTX 3060",
          "GeForce GT 1030",
          "GeForce GTX 1660 Ti",
          "GeForce RTX 4080 Super",
          "GeForce RTX 4060",
          "GeForce RTX 4080",
          "GeForce GT 1030",
          "GeForce RTX 4070",
          "Radeon RX 7800 XT",
          "GeForce RTX 4070",
          "GeForce RTX 3070 Ti",
          "Radeon RX 7900 XTX",
          "Radeon RX 7900 XTX",
          "GeForce GTX 1660 Ti",
          "Radeon RX 7800 XT",
          "GeForce GTX 1650",
          "GeForce RTX 3060",
          "GeForce RTX 3060"
         ],
         "x0": " ",
         "xaxis": "x",
         "y": [
          2655,
          2505,
          2475,
          2310,
          2535,
          2505,
          2535,
          2655,
          1792,
          2595,
          2490,
          2475,
          2491,
          2491,
          1807,
          1867,
          2600,
          2618,
          2310,
          2685,
          2505,
          2599,
          2610,
          2505,
          2625,
          2685,
          1807,
          1807,
          2625,
          2685,
          2640,
          1492,
          2520,
          2520,
          2655,
          2685,
          2595,
          2535,
          2655,
          2655,
          2655,
          2520,
          2520,
          2625,
          2625,
          2685,
          2490,
          2475,
          2580,
          1837,
          2490,
          1544,
          2491,
          1506,
          1206,
          2491,
          1777,
          2755,
          2565,
          2550,
          2475,
          2550,
          2755,
          2475,
          2535,
          2491,
          1506,
          2680,
          2544,
          2595,
          2450,
          2610,
          2550,
          2430,
          1506,
          2618,
          2550,
          2640,
          2625,
          2475,
          2565,
          2655,
          2580,
          2580,
          2595,
          2505,
          2615,
          1430,
          2460,
          2580,
          2520,
          2560,
          2475,
          2580,
          2520,
          2491,
          2600,
          2595,
          2550,
          2810,
          2580,
          2599,
          2450,
          2565,
          2550,
          2640,
          2535,
          2670,
          2680,
          2655,
          2550,
          2640,
          2584,
          2293,
          2715,
          2599,
          2625,
          2655,
          2550,
          2475,
          1635,
          1492,
          2695,
          2725,
          2775,
          2535,
          2595,
          2366,
          2565,
          2535,
          2595,
          2655,
          2625,
          2755,
          2460,
          2622,
          2584,
          2599,
          2535,
          2475,
          2525,
          2321,
          2460,
          2505,
          2400,
          2625,
          2565,
          2599,
          2475,
          2450,
          2535,
          2670,
          1470,
          1500,
          2755,
          1395,
          2535,
          2250,
          1285,
          2000,
          1425,
          1620,
          1244,
          1785,
          2635,
          1807,
          2460,
          2755,
          2550,
          2535,
          2550,
          2685,
          2490,
          2550,
          2640,
          2535,
          2293,
          2655,
          2520,
          2655,
          1845,
          1492,
          2635,
          2460,
          2810,
          2550,
          2550,
          2520,
          2475,
          2475,
          2565,
          2475,
          2490,
          2475,
          2550,
          2535,
          2505,
          2500,
          2670,
          2640,
          2670,
          2625,
          2670,
          2670,
          2670,
          2321,
          2825,
          2000,
          1665,
          1470,
          1477,
          1470,
          2460,
          2475,
          2535,
          2460,
          2799,
          2475,
          1665,
          2801,
          2505,
          2535,
          2595,
          2584,
          2490,
          2490,
          2505,
          2366,
          2490,
          2550,
          2550,
          2655,
          2640,
          2625,
          2685,
          2655,
          2550,
          2610,
          2580,
          1560,
          2505,
          2640,
          2610,
          1815,
          2581,
          1310,
          2565,
          1777,
          1785,
          1531,
          1755,
          1650,
          1792,
          1635,
          2595,
          2669,
          2460,
          2730,
          1815,
          1875,
          1807,
          1837,
          1680,
          1890,
          1442,
          2610,
          1777,
          1468,
          1830,
          2595,
          2505,
          2505,
          1417,
          2595,
          2430,
          2550,
          1770,
          2525,
          2615,
          1845,
          2565,
          1680,
          1777,
          1792
         ],
         "y0": " ",
         "yaxis": "y"
        }
       ],
       "layout": {
        "boxmode": "group",
        "legend": {
         "tracegroupgap": 0
        },
        "template": {
         "data": {
          "bar": [
           {
            "error_x": {
             "color": "#2a3f5f"
            },
            "error_y": {
             "color": "#2a3f5f"
            },
            "marker": {
             "line": {
              "color": "#E5ECF6",
              "width": 0.5
             },
             "pattern": {
              "fillmode": "overlay",
              "size": 10,
              "solidity": 0.2
             }
            },
            "type": "bar"
           }
          ],
          "barpolar": [
           {
            "marker": {
             "line": {
              "color": "#E5ECF6",
              "width": 0.5
             },
             "pattern": {
              "fillmode": "overlay",
              "size": 10,
              "solidity": 0.2
             }
            },
            "type": "barpolar"
           }
          ],
          "carpet": [
           {
            "aaxis": {
             "endlinecolor": "#2a3f5f",
             "gridcolor": "white",
             "linecolor": "white",
             "minorgridcolor": "white",
             "startlinecolor": "#2a3f5f"
            },
            "baxis": {
             "endlinecolor": "#2a3f5f",
             "gridcolor": "white",
             "linecolor": "white",
             "minorgridcolor": "white",
             "startlinecolor": "#2a3f5f"
            },
            "type": "carpet"
           }
          ],
          "choropleth": [
           {
            "colorbar": {
             "outlinewidth": 0,
             "ticks": ""
            },
            "type": "choropleth"
           }
          ],
          "contour": [
           {
            "colorbar": {
             "outlinewidth": 0,
             "ticks": ""
            },
            "colorscale": [
             [
              0,
              "#0d0887"
             ],
             [
              0.1111111111111111,
              "#46039f"
             ],
             [
              0.2222222222222222,
              "#7201a8"
             ],
             [
              0.3333333333333333,
              "#9c179e"
             ],
             [
              0.4444444444444444,
              "#bd3786"
             ],
             [
              0.5555555555555556,
              "#d8576b"
             ],
             [
              0.6666666666666666,
              "#ed7953"
             ],
             [
              0.7777777777777778,
              "#fb9f3a"
             ],
             [
              0.8888888888888888,
              "#fdca26"
             ],
             [
              1,
              "#f0f921"
             ]
            ],
            "type": "contour"
           }
          ],
          "contourcarpet": [
           {
            "colorbar": {
             "outlinewidth": 0,
             "ticks": ""
            },
            "type": "contourcarpet"
           }
          ],
          "heatmap": [
           {
            "colorbar": {
             "outlinewidth": 0,
             "ticks": ""
            },
            "colorscale": [
             [
              0,
              "#0d0887"
             ],
             [
              0.1111111111111111,
              "#46039f"
             ],
             [
              0.2222222222222222,
              "#7201a8"
             ],
             [
              0.3333333333333333,
              "#9c179e"
             ],
             [
              0.4444444444444444,
              "#bd3786"
             ],
             [
              0.5555555555555556,
              "#d8576b"
             ],
             [
              0.6666666666666666,
              "#ed7953"
             ],
             [
              0.7777777777777778,
              "#fb9f3a"
             ],
             [
              0.8888888888888888,
              "#fdca26"
             ],
             [
              1,
              "#f0f921"
             ]
            ],
            "type": "heatmap"
           }
          ],
          "heatmapgl": [
           {
            "colorbar": {
             "outlinewidth": 0,
             "ticks": ""
            },
            "colorscale": [
             [
              0,
              "#0d0887"
             ],
             [
              0.1111111111111111,
              "#46039f"
             ],
             [
              0.2222222222222222,
              "#7201a8"
             ],
             [
              0.3333333333333333,
              "#9c179e"
             ],
             [
              0.4444444444444444,
              "#bd3786"
             ],
             [
              0.5555555555555556,
              "#d8576b"
             ],
             [
              0.6666666666666666,
              "#ed7953"
             ],
             [
              0.7777777777777778,
              "#fb9f3a"
             ],
             [
              0.8888888888888888,
              "#fdca26"
             ],
             [
              1,
              "#f0f921"
             ]
            ],
            "type": "heatmapgl"
           }
          ],
          "histogram": [
           {
            "marker": {
             "pattern": {
              "fillmode": "overlay",
              "size": 10,
              "solidity": 0.2
             }
            },
            "type": "histogram"
           }
          ],
          "histogram2d": [
           {
            "colorbar": {
             "outlinewidth": 0,
             "ticks": ""
            },
            "colorscale": [
             [
              0,
              "#0d0887"
             ],
             [
              0.1111111111111111,
              "#46039f"
             ],
             [
              0.2222222222222222,
              "#7201a8"
             ],
             [
              0.3333333333333333,
              "#9c179e"
             ],
             [
              0.4444444444444444,
              "#bd3786"
             ],
             [
              0.5555555555555556,
              "#d8576b"
             ],
             [
              0.6666666666666666,
              "#ed7953"
             ],
             [
              0.7777777777777778,
              "#fb9f3a"
             ],
             [
              0.8888888888888888,
              "#fdca26"
             ],
             [
              1,
              "#f0f921"
             ]
            ],
            "type": "histogram2d"
           }
          ],
          "histogram2dcontour": [
           {
            "colorbar": {
             "outlinewidth": 0,
             "ticks": ""
            },
            "colorscale": [
             [
              0,
              "#0d0887"
             ],
             [
              0.1111111111111111,
              "#46039f"
             ],
             [
              0.2222222222222222,
              "#7201a8"
             ],
             [
              0.3333333333333333,
              "#9c179e"
             ],
             [
              0.4444444444444444,
              "#bd3786"
             ],
             [
              0.5555555555555556,
              "#d8576b"
             ],
             [
              0.6666666666666666,
              "#ed7953"
             ],
             [
              0.7777777777777778,
              "#fb9f3a"
             ],
             [
              0.8888888888888888,
              "#fdca26"
             ],
             [
              1,
              "#f0f921"
             ]
            ],
            "type": "histogram2dcontour"
           }
          ],
          "mesh3d": [
           {
            "colorbar": {
             "outlinewidth": 0,
             "ticks": ""
            },
            "type": "mesh3d"
           }
          ],
          "parcoords": [
           {
            "line": {
             "colorbar": {
              "outlinewidth": 0,
              "ticks": ""
             }
            },
            "type": "parcoords"
           }
          ],
          "pie": [
           {
            "automargin": true,
            "type": "pie"
           }
          ],
          "scatter": [
           {
            "fillpattern": {
             "fillmode": "overlay",
             "size": 10,
             "solidity": 0.2
            },
            "type": "scatter"
           }
          ],
          "scatter3d": [
           {
            "line": {
             "colorbar": {
              "outlinewidth": 0,
              "ticks": ""
             }
            },
            "marker": {
             "colorbar": {
              "outlinewidth": 0,
              "ticks": ""
             }
            },
            "type": "scatter3d"
           }
          ],
          "scattercarpet": [
           {
            "marker": {
             "colorbar": {
              "outlinewidth": 0,
              "ticks": ""
             }
            },
            "type": "scattercarpet"
           }
          ],
          "scattergeo": [
           {
            "marker": {
             "colorbar": {
              "outlinewidth": 0,
              "ticks": ""
             }
            },
            "type": "scattergeo"
           }
          ],
          "scattergl": [
           {
            "marker": {
             "colorbar": {
              "outlinewidth": 0,
              "ticks": ""
             }
            },
            "type": "scattergl"
           }
          ],
          "scattermapbox": [
           {
            "marker": {
             "colorbar": {
              "outlinewidth": 0,
              "ticks": ""
             }
            },
            "type": "scattermapbox"
           }
          ],
          "scatterpolar": [
           {
            "marker": {
             "colorbar": {
              "outlinewidth": 0,
              "ticks": ""
             }
            },
            "type": "scatterpolar"
           }
          ],
          "scatterpolargl": [
           {
            "marker": {
             "colorbar": {
              "outlinewidth": 0,
              "ticks": ""
             }
            },
            "type": "scatterpolargl"
           }
          ],
          "scatterternary": [
           {
            "marker": {
             "colorbar": {
              "outlinewidth": 0,
              "ticks": ""
             }
            },
            "type": "scatterternary"
           }
          ],
          "surface": [
           {
            "colorbar": {
             "outlinewidth": 0,
             "ticks": ""
            },
            "colorscale": [
             [
              0,
              "#0d0887"
             ],
             [
              0.1111111111111111,
              "#46039f"
             ],
             [
              0.2222222222222222,
              "#7201a8"
             ],
             [
              0.3333333333333333,
              "#9c179e"
             ],
             [
              0.4444444444444444,
              "#bd3786"
             ],
             [
              0.5555555555555556,
              "#d8576b"
             ],
             [
              0.6666666666666666,
              "#ed7953"
             ],
             [
              0.7777777777777778,
              "#fb9f3a"
             ],
             [
              0.8888888888888888,
              "#fdca26"
             ],
             [
              1,
              "#f0f921"
             ]
            ],
            "type": "surface"
           }
          ],
          "table": [
           {
            "cells": {
             "fill": {
              "color": "#EBF0F8"
             },
             "line": {
              "color": "white"
             }
            },
            "header": {
             "fill": {
              "color": "#C8D4E3"
             },
             "line": {
              "color": "white"
             }
            },
            "type": "table"
           }
          ]
         },
         "layout": {
          "annotationdefaults": {
           "arrowcolor": "#2a3f5f",
           "arrowhead": 0,
           "arrowwidth": 1
          },
          "autotypenumbers": "strict",
          "coloraxis": {
           "colorbar": {
            "outlinewidth": 0,
            "ticks": ""
           }
          },
          "colorscale": {
           "diverging": [
            [
             0,
             "#8e0152"
            ],
            [
             0.1,
             "#c51b7d"
            ],
            [
             0.2,
             "#de77ae"
            ],
            [
             0.3,
             "#f1b6da"
            ],
            [
             0.4,
             "#fde0ef"
            ],
            [
             0.5,
             "#f7f7f7"
            ],
            [
             0.6,
             "#e6f5d0"
            ],
            [
             0.7,
             "#b8e186"
            ],
            [
             0.8,
             "#7fbc41"
            ],
            [
             0.9,
             "#4d9221"
            ],
            [
             1,
             "#276419"
            ]
           ],
           "sequential": [
            [
             0,
             "#0d0887"
            ],
            [
             0.1111111111111111,
             "#46039f"
            ],
            [
             0.2222222222222222,
             "#7201a8"
            ],
            [
             0.3333333333333333,
             "#9c179e"
            ],
            [
             0.4444444444444444,
             "#bd3786"
            ],
            [
             0.5555555555555556,
             "#d8576b"
            ],
            [
             0.6666666666666666,
             "#ed7953"
            ],
            [
             0.7777777777777778,
             "#fb9f3a"
            ],
            [
             0.8888888888888888,
             "#fdca26"
            ],
            [
             1,
             "#f0f921"
            ]
           ],
           "sequentialminus": [
            [
             0,
             "#0d0887"
            ],
            [
             0.1111111111111111,
             "#46039f"
            ],
            [
             0.2222222222222222,
             "#7201a8"
            ],
            [
             0.3333333333333333,
             "#9c179e"
            ],
            [
             0.4444444444444444,
             "#bd3786"
            ],
            [
             0.5555555555555556,
             "#d8576b"
            ],
            [
             0.6666666666666666,
             "#ed7953"
            ],
            [
             0.7777777777777778,
             "#fb9f3a"
            ],
            [
             0.8888888888888888,
             "#fdca26"
            ],
            [
             1,
             "#f0f921"
            ]
           ]
          },
          "colorway": [
           "#636efa",
           "#EF553B",
           "#00cc96",
           "#ab63fa",
           "#FFA15A",
           "#19d3f3",
           "#FF6692",
           "#B6E880",
           "#FF97FF",
           "#FECB52"
          ],
          "font": {
           "color": "#2a3f5f"
          },
          "geo": {
           "bgcolor": "white",
           "lakecolor": "white",
           "landcolor": "#E5ECF6",
           "showlakes": true,
           "showland": true,
           "subunitcolor": "white"
          },
          "hoverlabel": {
           "align": "left"
          },
          "hovermode": "closest",
          "mapbox": {
           "style": "light"
          },
          "paper_bgcolor": "white",
          "plot_bgcolor": "#E5ECF6",
          "polar": {
           "angularaxis": {
            "gridcolor": "white",
            "linecolor": "white",
            "ticks": ""
           },
           "bgcolor": "#E5ECF6",
           "radialaxis": {
            "gridcolor": "white",
            "linecolor": "white",
            "ticks": ""
           }
          },
          "scene": {
           "xaxis": {
            "backgroundcolor": "#E5ECF6",
            "gridcolor": "white",
            "gridwidth": 2,
            "linecolor": "white",
            "showbackground": true,
            "ticks": "",
            "zerolinecolor": "white"
           },
           "yaxis": {
            "backgroundcolor": "#E5ECF6",
            "gridcolor": "white",
            "gridwidth": 2,
            "linecolor": "white",
            "showbackground": true,
            "ticks": "",
            "zerolinecolor": "white"
           },
           "zaxis": {
            "backgroundcolor": "#E5ECF6",
            "gridcolor": "white",
            "gridwidth": 2,
            "linecolor": "white",
            "showbackground": true,
            "ticks": "",
            "zerolinecolor": "white"
           }
          },
          "shapedefaults": {
           "line": {
            "color": "#2a3f5f"
           }
          },
          "ternary": {
           "aaxis": {
            "gridcolor": "white",
            "linecolor": "white",
            "ticks": ""
           },
           "baxis": {
            "gridcolor": "white",
            "linecolor": "white",
            "ticks": ""
           },
           "bgcolor": "#E5ECF6",
           "caxis": {
            "gridcolor": "white",
            "linecolor": "white",
            "ticks": ""
           }
          },
          "title": {
           "x": 0.05
          },
          "xaxis": {
           "automargin": true,
           "gridcolor": "white",
           "linecolor": "white",
           "ticks": "",
           "title": {
            "standoff": 15
           },
           "zerolinecolor": "white",
           "zerolinewidth": 2
          },
          "yaxis": {
           "automargin": true,
           "gridcolor": "white",
           "linecolor": "white",
           "ticks": "",
           "title": {
            "standoff": 15
           },
           "zerolinecolor": "white",
           "zerolinewidth": 2
          }
         }
        },
        "title": {
         "text": "Rozkład taktowania rdzenia w trybie boost dla każdego chipsetu"
        },
        "xaxis": {
         "anchor": "y",
         "domain": [
          0,
          1
         ],
         "tickangle": -45,
         "title": {
          "text": "Rodzaj chipsetu"
         }
        },
        "yaxis": {
         "anchor": "x",
         "domain": [
          0,
          1
         ],
         "title": {
          "text": "Taktowanie rdzenia (MHz)"
         }
        }
       }
      }
     },
     "metadata": {},
     "output_type": "display_data"
    }
   ],
   "source": [
    "fig = px.box(df_boost, x='Rodzaj chipsetu', y='Taktowanie rdzenia w trybie boost', title='Rozkład taktowania rdzenia w trybie boost dla każdego chipsetu')\n",
    "fig.update_layout(xaxis_title='Rodzaj chipsetu', yaxis_title='Taktowanie rdzenia (MHz)', xaxis_tickangle=-45)\n",
    "fig.show()"
   ]
  }
 ],
 "metadata": {
  "kernelspec": {
   "display_name": "Python 3",
   "language": "python",
   "name": "python3"
  },
  "language_info": {
   "codemirror_mode": {
    "name": "ipython",
    "version": 3
   },
   "file_extension": ".py",
   "mimetype": "text/x-python",
   "name": "python",
   "nbconvert_exporter": "python",
   "pygments_lexer": "ipython3",
   "version": "3.12.0"
  }
 },
 "nbformat": 4,
 "nbformat_minor": 2
}
