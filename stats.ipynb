{
 "cells": [
  {
   "cell_type": "code",
   "execution_count": 2,
   "metadata": {},
   "outputs": [
    {
     "name": "stdout",
     "output_type": "stream",
     "text": [
      "Requirement already satisfied: numpy in c:\\users\\zakub\\appdata\\local\\programs\\python\\python311\\lib\\site-packages (1.25.2)\n",
      "Note: you may need to restart the kernel to use updated packages.\n"
     ]
    },
    {
     "name": "stderr",
     "output_type": "stream",
     "text": [
      "\n",
      "[notice] A new release of pip is available: 23.1.2 -> 23.2.1\n",
      "[notice] To update, run: python.exe -m pip install --upgrade pip\n"
     ]
    }
   ],
   "source": [
    "pip install numpy"
   ]
  },
  {
   "cell_type": "code",
   "execution_count": 4,
   "metadata": {},
   "outputs": [
    {
     "name": "stdout",
     "output_type": "stream",
     "text": [
      "Requirement already satisfied: pandas in c:\\users\\zakub\\appdata\\local\\programs\\python\\python311\\lib\\site-packages (2.1.0)Note: you may need to restart the kernel to use updated packages.\n",
      "\n",
      "Requirement already satisfied: numpy>=1.23.2 in c:\\users\\zakub\\appdata\\local\\programs\\python\\python311\\lib\\site-packages (from pandas) (1.25.2)\n",
      "Requirement already satisfied: python-dateutil>=2.8.2 in c:\\users\\zakub\\appdata\\roaming\\python\\python311\\site-packages (from pandas) (2.8.2)\n",
      "Requirement already satisfied: pytz>=2020.1 in c:\\users\\zakub\\appdata\\local\\programs\\python\\python311\\lib\\site-packages (from pandas) (2023.3.post1)\n",
      "Requirement already satisfied: tzdata>=2022.1 in c:\\users\\zakub\\appdata\\local\\programs\\python\\python311\\lib\\site-packages (from pandas) (2023.3)\n",
      "Requirement already satisfied: six>=1.5 in c:\\users\\zakub\\appdata\\roaming\\python\\python311\\site-packages (from python-dateutil>=2.8.2->pandas) (1.16.0)\n"
     ]
    },
    {
     "name": "stderr",
     "output_type": "stream",
     "text": [
      "\n",
      "[notice] A new release of pip is available: 23.1.2 -> 23.2.1\n",
      "[notice] To update, run: python.exe -m pip install --upgrade pip\n"
     ]
    }
   ],
   "source": [
    "pip install pandas"
   ]
  },
  {
   "cell_type": "code",
   "execution_count": 6,
   "metadata": {},
   "outputs": [],
   "source": [
    "import pandas as pd\n",
    "df = pd.read_csv('products.csv')"
   ]
  },
  {
   "cell_type": "code",
   "execution_count": 9,
   "metadata": {},
   "outputs": [
    {
     "data": {
      "text/plain": [
       "array(['Karta graficzna Gigabyte GeForce RTX 3060 Eagle OC 12GB GDDR6 (GV-N3060EAGLE OC-12GD 2.0)',\n",
       "       'Karta graficzna Gigabyte GeForce RTX 3070 Ti Gaming OC 8GB GDDR6X (GV-N307TGAMING OC-8GD)',\n",
       "       'Karta graficzna ASRock Radeon RX 6800 XT Phantom Gaming OC 16GB GDDR6 (RX6800XT PG 16GO)',\n",
       "       'Karta graficzna ASRock Radeon RX 6600 Challenger D 8GB GDDR6 (RX6600 CLD 8G)',\n",
       "       'Karta graficzna Gigabyte GeForce RTX 4090 Gaming OC 24 GB GDDR6X (GV-N4090GAMING OC-24GD)',\n",
       "       'Karta graficzna MSI GeForce RTX 4090 VENTUS 3X OC 24GB GDDR6X',\n",
       "       'Karta graficzna Asus Dual GeForce RTX 3060 Gaming OC 12GB GDDR6 (DUAL-RTX3060-O12G-V2)',\n",
       "       'Karta graficzna MSI GeForce GTX 1660 SUPER Ventus XS OC 6GB GDDR6 (GTX 1660 SUPER VENTUS XS 6G OC)',\n",
       "       'Karta graficzna Asus Dual Radeon RX 6650 XT OC 8GB GDDR6 (DUAL-RX6650XT-O8G)',\n",
       "       'Karta graficzna Gigabyte GeForce RTX 3060 Gaming OC 12G (GV-N3060GAMING OC-12GD 2.0)',\n",
       "       'Karta graficzna MSI GeForce RTX 3060 Ventus x2 OC 12GB GDDR6 (RTX 3060 VENTUS 2X 12G OC)',\n",
       "       'Karta graficzna MSI GeForce RTX 3060 Ventus X3 OC 12GB GDDR6 (RTX 3060 VENTUS 3X 12G OC)',\n",
       "       'Karta graficzna MSI GeForce RTX 4060 Ventus 2X White OC 8GB GDDR6',\n",
       "       'Karta graficzna Gigabyte Radeon RX 7700 XT Gaming OC 12GB GDDR6 (GV-R77XTGAMING OC-12GD)',\n",
       "       'Karta graficzna MSI GeForce RTX 3060 Ti Ventus 2X OCV1 8GB GDDR6 (RTX 3060 Ti VENTUS 2X OCV1 LHR)',\n",
       "       'Karta graficzna PNY GeForce RTX 3060 Ti Verto Dual Fan LHR 8GB GDDR6 (VCG3060T8LDFBPB1)',\n",
       "       'Karta graficzna MSI GeForce RTX 4060 Ti Ventus 3X OC 16GB GDDR6',\n",
       "       'Karta graficzna MSI GeForce RTX 4060 Ti Ventus 2X Black OC 16GB GDDR6',\n",
       "       'Karta graficzna Gigabyte GeForce RTX 3070 Gaming OC 8GB GDDR6 (GV-N3070GAMING OC-8GD)',\n",
       "       'Karta graficzna Gigabyte GeForce GT 1030 OC 2GB GDDR5 (GV-N1030OC-2GI)',\n",
       "       'Karta graficzna Sapphire Radeon RX 550 Pulse G5 4GB GDDR5 (11268-01-20G)',\n",
       "       'Karta graficzna Sapphire Radeon RX 6700 XT Pulse Gaming 12GB GDDR6 (11306-02-20G)',\n",
       "       'Karta graficzna Asus Phoenix GeForce GT 1030 OC 2GB GDDR5 (PH-GT1030-O2G)',\n",
       "       'Karta graficzna Gainward GeForce RTX 3060 Ghost 12GB GDDR6 (471056224-2430)',\n",
       "       'Karta graficzna Palit GeForce RTX 3060 Dual 12GB GDDR6 (NE63060019K9-190AD)',\n",
       "       'Karta graficzna Gigabyte GeForce RTX 3060 Vision OC 12GB GDDR6 (GV-N3060VISION OC-12GD 2.0)',\n",
       "       'Karta graficzna MSI GeForce GT 710 Low Profile 2GB DDR3',\n",
       "       'Karta graficzna Gigabyte GeForce RTX 3050 Eagle OC 8GB GDDR6 (GV-N3050EAGLE OC-8GD)',\n",
       "       'Karta graficzna Sapphire Pulse Radeon RX 6800 Gaming OC 16GB GDDR6 (11305-02-20G)',\n",
       "       'Karta graficzna MSI GeForce GTX 1650 D6 Ventus XS OC V1 4GB GDDR6',\n",
       "       'Karta graficzna Sapphire Radeon RX 6650 XT Pulse Gaming OC 8GB GDDR6 (11319-03-20G)',\n",
       "       'Karta graficzna Gigabyte GeForce RTX 3060 Ti GAMING OC 8GB GDDR6X (GV-N306TXGAMING OC-8GD)',\n",
       "       'Karta graficzna Power Color Radeon RX 6600 Hellhound 8GB GDDR6 (AXRX 6600 8GBD6-3DHL)',\n",
       "       'Karta graficzna Palit GeForce RTX 3060 Ti Dual 8GB GDDR6 LHR (NE6306T019P2-190AD)',\n",
       "       'Karta graficzna Gigabyte GeForce RTX 4070 Gaming OC 12GB GDDR6X (GV-N4070GAMING OC-12GD)',\n",
       "       'Karta graficzna MSI GeForce RTX 4070 Ti Gaming X Trio 12GB GDDR6X',\n",
       "       'Karta graficzna Sapphire Radeon RX 550 Pulse 2GB GDDR5 (11268-21-20G)',\n",
       "       'Karta graficzna Sapphire Pulse Radeon 6600 8GB GDDR6 (11310-01-20G)',\n",
       "       'Karta graficzna Zotac GeForce GTX 1650 D6 Gaming OC 4GB GDDR6 (ZT-T16520F-10L)',\n",
       "       'Karta graficzna Sapphire Radeon RX 5700 Pulse 8GB GDDR6 (11294-01-20G)',\n",
       "       'Karta graficzna XFX Radeon RX 6600 Speedster SWFT 210 Core Gaming 8GB GDDR6 (RX-66XL8LFDQ)',\n",
       "       'Karta graficzna Zotac GeForce RTX 3060 Ti Twin Edge OC LHR 8GB GDDR6 (ZT-A30610H-10MLHR)',\n",
       "       'Karta graficzna MSI GeForce RTX 3050 Ventus 2X 8GB GDDR6',\n",
       "       'Karta graficzna Zotac GeForce RTX 3060 Twin Edge OC 12GB GDDR6 (ZT-A30600H-10M)',\n",
       "       'Karta graficzna Gigabyte GeForce RTX 3050 Eagle 8GB GDDR6 (GV-N3050EAGLE-8GD)',\n",
       "       'Karta graficzna MSI GeForce GT 1030 AERO ITX 2GD4 OC 2GB DDR4 (GT 1030 AERO ITX 2GD4 OC)',\n",
       "       'Karta graficzna Gigabyte GeForce RTX 4080 Gaming OC 16GB GDDR6X (GV-N4080GAMING OC-16GD)',\n",
       "       'Karta graficzna MSI Radeon RX 6500 XT Mech X2 OC 4GB GDDR6 (RX 6500 XT MECH 2X 4G OC)',\n",
       "       'Karta graficzna Asus TUF Gaming GeForce RTX 4070 Ti OC 12GB GDDR6X (TUF-RTX4070TI-O12G-GAMING)',\n",
       "       'Karta graficzna Sapphire Pulse Radeon RX 7900 XT 20GB GDDR6 (11323-02-20G)',\n",
       "       'Karta graficzna ASRock Radeon RX 6700 XT Challenger D OC 12GB GDDR6 (RX6700XT CLD 12GO)',\n",
       "       'Karta graficzna MSI GeForce RTX 3060 Ti Ventus 3X OC 8GB GDDR6 (RTX 3060 Ti VENTUS 3X OC LHR)',\n",
       "       'Karta graficzna Palit GeForce RTX 3070 Ti GamingPro OC 8GB GDDR6X (NED307T019P2-1046A)',\n",
       "       'Karta graficzna Palit GeForce RTX 4070 Dual 12GB GDDR6X (NED4070019K9-1047D)',\n",
       "       'Karta graficzna Asus GeForce RTX 3070 TUF 8GB OC V2 (TUF-RTX3070-O8G-V2-GAMING)',\n",
       "       'Karta graficzna Gigabyte Aorus GeForce RTX 4070 Ti Master 12GB GDDR6X (GV-N407TAORUS M-12GD)',\n",
       "       'Karta graficzna MSI GeForce RTX 4060 Ventus 2X Black OC 8GB GDDR6',\n",
       "       'Karta graficzna Asus Dual Radeon RX 6750 XT OC 12GB GDDR6 (DUAL-RX6750XT-O12G)',\n",
       "       'Karta graficzna Asus Phoenix GeForce RTX 3060 12GB GDDR6 (PH-RTX3060-12G-V2)',\n",
       "       'Karta graficzna Asus Dual GeForce RTX 4060 Ti OC 8GB GDDR6 (DUAL-RTX4060TI-O8G)',\n",
       "       'Karta graficzna Manli GeForce RTX 3070 Ti 8GB GDDR6X (M3514+N651-03)',\n",
       "       'Karta graficzna Sapphire Nitro+ Radeon RX 7900 XTX Vapor-X 24GB GDDR6 (11322-01-40G)',\n",
       "       'Karta graficzna MSI GeForce RTX 4080 Gaming X Trio 16GB GDDR6X (RTX 4080 16 Gaming X Trio)',\n",
       "       'Karta graficzna Palit GeForce RTX 4090 GameRock 24GB GDDR6X (NED4090019SB-1020G)',\n",
       "       'Karta graficzna PNY GeForce GTX 1660 SUPER Single Fan 6GB GDDR6 (VCG16606SSFPPB)',\n",
       "       'Karta graficzna Gigabyte GeForce RTX\\xad\\xad 4060 Gaming OC 8GB GDDR6 (GV-N4060GAMING OC-8GD)',\n",
       "       'Karta graficzna MSI GeForce GT 1030 2GHD4 LP OC 2GB DDR4 (GT 1030 2GHD4 LP OC)',\n",
       "       'Karta graficzna Power Color Radeon RX 6800 XT Red Dragon OC 16GB GDDR6 (AXRX 6800XT 16GBD6-3DHR/OC)',\n",
       "       'Karta graficzna MSI GeForce RTX 4070 Ti Suprim X 12GB GDDR6X',\n",
       "       'Karta graficzna Asus Dual GeForce RTX 3070 Gaming OC 8GB GDDR6 (DUAL-RTX3070-O8G-V2)',\n",
       "       'Karta graficzna MSI GeForce RTX 4080 Ventus 3X OC 16GB GDDR6X (RTX 4080 16GB VENTUS)',\n",
       "       'Karta graficzna Sapphire Radeon RX 6500 XT Pulse 4GB GDDR6 (11314-01-20G)',\n",
       "       'Karta graficzna Sapphire Pulse Radeon RX 7600 Gaming OC 8GB GDDR6 (11324-01-20G)',\n",
       "       'Karta graficzna Zotac GeForce RTX 3060 Twin Edge 8GB GDDR6 (ZT-A30630E-10M)',\n",
       "       'Karta graficzna Palit GeForce RTX 4060 Dual 8GB GDDR6 (NE64060019P1-1070D)',\n",
       "       'Karta graficzna Gigabyte GeForce RTX 4060 Ti Eagle OC 8GB GDDR6 (GV-N406TEAGLE OC-8GD)',\n",
       "       'Karta graficzna Gigabyte GeForce RTX 3070 Eagle 8GB GDDR6 (GV-N3070EAGLE-8GD 2.0)',\n",
       "       'Karta graficzna Palit GeForce RTX 4070 Dual OC 12GB GDDR6X (NED4070S19K9-1047D)',\n",
       "       'Karta graficzna Sapphire Nitro+ Radeon RX 7900 XT Vapor-X 20GB GDDR6 (11323-01-40G)',\n",
       "       'Karta graficzna PNY GeForce RTX 4080 XLR8 Gaming Verto Epic-X RGB 16GB GDDR6X (VCG408016TFXXPB1)',\n",
       "       'Karta graficzna ASRock Radeon RX 6650 XT Challenger D OC 8GB GDDR6 (RX6650XT CLD 8GO)',\n",
       "       'Karta graficzna Sapphire Radeon RX 6750 XT Pulse Gaming OC 12GB GDDR6 (11318-03-20G)',\n",
       "       'Karta graficzna Asus GeForce GT 730 2GB GDDR5 (GT730-4H-SL-2GD5)',\n",
       "       'Karta graficzna Asus TUF Gaming GeForce GTX 1650 OC V2 4GB GDDR6 (TUF-GTX1650-O4GD6-P-V2-GAMING)',\n",
       "       'Karta graficzna Gigabyte Radeon RX 7600 Gaming OC 8GB GDDR6 (GV-R76GAMING OC-8GD)',\n",
       "       'Karta graficzna MSI GeForce RTX 4060 Ti Gaming X 8GB GDDR6',\n",
       "       'Karta graficzna MSI Radeon RX 6700 XT Mech 2X OC 12GB GDDR6 (RX 6700 XT MECH 2X 12G OC)',\n",
       "       'Karta graficzna XFX Radeon RX 6800 XT Speedster MERC 319 Core 16GB GDDR6 (RX-68XTALFD9)',\n",
       "       'Karta graficzna ASRock Radeon RX 6500 XT Phantom Gaming D OC 4GB GDDR6 (RX6500XT PGD 4GO)',\n",
       "       'Karta graficzna Zotac GeForce RTX 3060 Ti Twin Edge 8GB GDDR6X (ZT-A30620E-10P)',\n",
       "       'Karta graficzna Palit GeForce RTX 4060 Ti Dual 8GB GDDR6 (NE6406T019P1-1060D)',\n",
       "       'Karta graficzna Gigabyte GeForce RTX 4070 Ti Eagle OC 12GB GDDR6X (GV-N407TEAGLE OC-12GD 2.0)',\n",
       "       'Karta graficzna Asus TUF Gaming Radeon RX 7900 XT OC 20GB GDDR6 (TUF-RX7900XT-O20G-GAMING)',\n",
       "       'Karta graficzna Gigabyte GeForce RTX 3060 Windforce OC LHR 12GB GDDR6 (GV-N3060WF2OC-12GD 2.0)',\n",
       "       'Karta graficzna Asus Dual GeForce RTX 4060 OC 8GB GDDR6 (DUAL-RTX4060-O8G)',\n",
       "       'Karta graficzna MSI GeForce RTX 4060 Gaming X 8GB GDDR6',\n",
       "       'Karta graficzna ASRock Radeon RX 6750 XT Challenger Pro OC 12GB GDDR6 (RX6750XT CLP 12GO)',\n",
       "       'Karta graficzna MSI GeForce RTX 3060 Ti Ventus 3X OC 8GB GDDR6X',\n",
       "       'Karta graficzna Gigabyte GeForce RTX 4060 Ti Aero OC 8GB GDDR6 (GV-N406TAERO OC-8GD)',\n",
       "       'Karta graficzna Palit GeForce RTX 4070 GamingPro OC 12GB GDDR6X (NED4070H19K9-1043A)',\n",
       "       'Karta graficzna Gigabyte GeForce RTX 4070 Ti Windforce OC 12GB GDDR6X (GV-N407TWF3OC-12GD)',\n",
       "       'Karta graficzna Zotac Gaming GeForce RTX 4070 Ti Trinity OC 12GB GDDR6X (ZT-D40710J-10P)',\n",
       "       'Karta graficzna PNY GeForce RTX 4070 Ti XLR8 Gaming Verto Epic-X RGB 12GB GDDR6X (VCG4070T12TFXXPB1)',\n",
       "       'Karta graficzna Palit GeForce RTX 4070 Ti GameRock 12GB GDDR6X (NED407T019K9-1045G)',\n",
       "       'Karta graficzna Asus ROG Strix GeForce RTX 4070 Ti 12GB GDDR6X (ROG-STRIX-RTX4070TI-12G-GAMING)',\n",
       "       'Karta graficzna PNY GeForce RTX 4080 Verto 16GB GDDR6X (VCG408016TFXPB1)',\n",
       "       'Karta graficzna Asus TUF Gaming GeForce RTX 4080 OC Edition 16GB GDDR6X (TUF-RTX4080-O16G-GAMING)',\n",
       "       'Karta graficzna PNY Quadro P1000 4GB GDDR5 (VCQP1000V2-PB)',\n",
       "       'Karta graficzna MSI GeForce RTX 4060 Ti Ventus 2X Black OC 8GB GDDR6',\n",
       "       'Karta graficzna Asus ROG Strix GeForce RTX 4070 Ti OC 12GB GDDR6X (ROG-STRIX-RTX4070TI-O12G-GAMING)',\n",
       "       'Karta graficzna PNY Quadro RTX A4000 16GB GDDR6 (VCNRTXA4000-SB)',\n",
       "       'Karta graficzna Asus RX 560 ROG Strix 4GB GDDR5 (90YV0HV0-M0NA00)',\n",
       "       'Karta graficzna MSI Radeon RX 6400 Aero ITX 4GB GDDR6 (RX 6400 AERO ITX 4G)',\n",
       "       'Karta graficzna MSI GeForce GTX 1630 Ventus XS OC 4GB GDDR6',\n",
       "       'Karta graficzna Gigabyte GeForce GTX 1630 OC Low Profile 4GB GDDR6 (GV-N1630OC-4GL)',\n",
       "       'Karta graficzna Asus Dual Radeon RX 6600 Gaming OC V2 8GB GDDR6 (DUAL-RX6600-8G-V2)',\n",
       "       'Karta graficzna Intel Arc A750 Limited Edition 8GB GDDR6 (21P02J00BA)',\n",
       "       'Karta graficzna PNY GeForce RTX 3060 Verto 8GB GDDR6 (VCG30608DFBPB1)',\n",
       "       'Karta graficzna XFX Speedster SWFT 210 Radeon RX 7600 8GB GDDR6 (RX-76PSWFTFY)',\n",
       "       'Karta graficzna MSI GeForce RTX 3060 Ventus 2X OC 8GB GDDR6',\n",
       "       'Karta graficzna MSI Radeon RX 6650 XT Mech 2X OC 8GB GDDR6',\n",
       "       'Karta graficzna Gainward GeForce RTX 3060 Pegasus 8GB GDDR6 (471056224-3451)',\n",
       "       'Karta graficzna Gigabyte GeForce RTX 3060 Windforce OC LHR 12GB GDDR6 (GV-N3060WF2OC-12GD)',\n",
       "       'Karta graficzna PNY GeForce RTX 3050 Verto Dual Fan Edition 8GB GDDR6 (VCG30508DFBPB1)',\n",
       "       'Karta graficzna Asus Dual Radeon RX 7600 OC 8GB GDDR6 (DUAL-RX7600-O8G)',\n",
       "       'Karta graficzna Gigabyte GeForce RTX 4060 Windforce OC 8GB GDDR6 (GV-N4060WF2OC-8GD)',\n",
       "       'Karta graficzna PNY GeForce RTX 4060 Verto Dual 8GB GDDR6 (VCG40608DFXPB1)',\n",
       "       'Karta graficzna Gigabyte GeForce RTX 3060 Ti Windforce OC LHR 8GB GDDR6 (GV-N306TWF2OC-8GD)',\n",
       "       'Karta graficzna AFOX Radeon RX 570 8GB GDDR5 (AFRX570-8192D5H3-V2)',\n",
       "       'Karta graficzna Asus TUF Gaming GeForce RTX 4060 Ti OC 8GB GDDR6 (TUF-RTX4060TI-O8G-GAMING)',\n",
       "       'Karta graficzna MSI GeForce RTX 4060 Ti Gaming X Trio 8GB GDDR6',\n",
       "       'Karta graficzna Zotac GeForce RTX 3070 AMP Holo 8GB GDDR6 (ZT-A30700F-10PLHR)',\n",
       "       'Karta graficzna PNY Quadro RTX A2000 12GB GDDR6 (VCNRTXA2000-12GB-SB)',\n",
       "       'Karta graficzna Palit GeForce RTX 4070 GamingPro 12GB GDDR6X (NED4070019K9-1043A)',\n",
       "       'Karta graficzna PNY GeForce RTX 4070 Ti Verto White 12GB GDDR6X (VCG4070T12TFWXPB1)',\n",
       "       'Karta graficzna PNY GeForce RTX 4070 Ti Verto 12GB GDDR6X (VCG4070T12TFXPB1)',\n",
       "       'Karta graficzna Asus TUF Gaming GeForce RTX 4080 16GB GDDR6X (TUF-RTX4080-16G-GAMING)',\n",
       "       'Karta graficzna Zotac Gaming GeForce RTX 4090 Trinity OC 24GB GDDR6X (ZT-D40900J-10P)',\n",
       "       'Karta graficzna Asus TUF Gaming GeForce RTX 4090 24GB GDDR6X (TUF-RTX4090-24G-GAMING)',\n",
       "       'Karta graficzna Asus ROG Strix GeForce RTX 4090 24GB GDDR6X (ROG-STRIX-RTX4090-24G-GAMING)',\n",
       "       'Karta graficzna MSI Radeon RX 7600 Mech 2X Classic OC 8GB GDDR6',\n",
       "       'Karta graficzna MSI GeForce GT 730 2GB DDR3 (N730K-2GD3HLPV1)',\n",
       "       'Karta graficzna MSI GeForce GTX 1630 4GT LP OC 4GB GDDR6',\n",
       "       'Karta graficzna Asus Dual GeForce GTX 1650 V2 OC 4GB GDDR6 (DUAL-GTX1650-O4GD6-P-V2)',\n",
       "       'Karta graficzna MSI GeForce GTX 1650 D6 Ventus XS V1 4GB GDDR6',\n",
       "       'Karta graficzna PNY GeForce GTX 1650 Dual Fan 2 4GB GDDR6 (VCG16504D6DFXPB1)',\n",
       "       'Karta graficzna PNY Quadro T400 4GB GDDR6 (VCNT400-4GB-PB)',\n",
       "       'Karta graficzna PNY Quadro T400 4GB GDDR6 (VCNT400-4GB-SB)',\n",
       "       'Karta graficzna MSI GeForce GTX 1660 SUPER Ventus XS 6GB GDDR6',\n",
       "       'Karta graficzna Gainward GeForce RTX 3050 Pegasus 8GB GDDR6 (471056224-3734)',\n",
       "       'Karta graficzna Power Color Radeon RX 7600 Fighter 8GB GDDR6 (RX 7600 8G-F)',\n",
       "       'Karta graficzna Power Color Radeon RX 7600 Hellhound 8GB GDDR6 (RX 7600 8G-L/OC)',\n",
       "       'Karta graficzna XFX Speedster QICK 308 Radeon RX 7600 8GB GDDR6 (RX-76PQICKBY)',\n",
       "       'Karta graficzna ASRock Radeon RX 7600 Phantom Gaming OC 8GB GDDR6 (RX7600 PG 8GO)',\n",
       "       'Karta graficzna MSI GeForce RTX 3060 Aero ITX OC 12GB GDDR6 (RTX 3060 AERO ITX 12G OC)',\n",
       "       'Karta graficzna KFA2 GeForce RTX 3050 EX 8GB GDDR6 (35NSL8MD6YEK)',\n",
       "       'Karta graficzna ASRock Radeon RX 7600 Steel Legend 8GB OC (RX7600 SL 8GO)',\n",
       "       'Karta graficzna XFX Speedster SWFT 309 Radeon RX 6700 10GB GDDR6 (RX-67XLKWFDV)',\n",
       "       'Karta graficzna Palit GeForce RTX 4060 StormX 8GB GDDR6 (NE64060019P1-1070F)',\n",
       "       'Karta graficzna PNY GeForce RTX 4060 XLR8 Gaming Verto Epic-X RGB 8GB GDDR6 (VCG40608TFXXPB1)',\n",
       "       'Karta graficzna Gigabyte Aorus GeForce RTX 4060 Elite 8GB GDDR6 (GV-N4060AORUS E-8GD)',\n",
       "       'Karta graficzna MSI Radeon RX 6750 XT Mech 2X 12GB GDDR6',\n",
       "       'Karta graficzna Biostar Radeon RX 6750 XT 12GB GDDR6 (VA6756TML9)',\n",
       "       'Karta graficzna PNY GeForce RTX 4060 Ti XLR8 Gaming Verto Epic-X RGB 8GB GDDR6 (VCG4060T8TFXXPB1)',\n",
       "       'Karta graficzna MSI GeForce RTX 4060 Ti Ventus 3X OC 8GB GDDR6',\n",
       "       'Karta graficzna PNY GeForce RTX 4060 Ti 8GB Verto Dual Fan 8GB GDDR6 (VCG4060T8DFXPB1)',\n",
       "       'Karta graficzna Asus Dual GeForce RTX 4060 Ti OC 8GB GDDR6 (DUAL-RTX4060TI-O8G-WHITE)',\n",
       "       'Karta graficzna ASRock Radeon RX 7700 XT Challenger OC 12GB GDDR6 (RX7700XT CL 12GO)',\n",
       "       'Karta graficzna Gigabyte Aorus GeForce RTX 4060 Ti Elite 8GB GDDR6 (GV-N406TAORUS E-8GD)',\n",
       "       'Karta graficzna ASRock Radeon RX 7700 XT Steel Legend 12GB GDDR6 (RX7700XT SL 12GO)',\n",
       "       'Karta graficzna Power Color Fighter Radeon RX 7700 XT 12GB GDDR6 (RX 7700 XT 12G-F/OC)',\n",
       "       'Karta graficzna Sapphire Pulse Radeon RX 7700 XT 12GB GDDR6 (11335-04-20G)',\n",
       "       'Karta graficzna Gainward GeForce RTX 3070 Phantom+ 8GB GDDR6 (471056224-2928)',\n",
       "       'Karta graficzna Palit GeForce RTX 4060 Ti JetStream OC 16GB GDDR6 (NE6406TU19T1-1061J)',\n",
       "       'Karta graficzna Power Color Hellhound Radeon RX 7700 XT 12GB GDDR6 (RX 7700 XT 12G-L/OC)',\n",
       "       'Karta graficzna PNY GeForce RTX 4060 Ti Verto Dual Fan 16GB GDDR6 (VCG4060T16DFXPB1)',\n",
       "       'Karta graficzna ASRock Radeon RX 7800 XT Challenger OC 16GB GDDR6 (RX7800XT CL 16GO)',\n",
       "       'Karta graficzna PNY Quadro RTX A2000 12GB GDDR6 (VCNRTXA2000-12GB-BLK)',\n",
       "       'Karta graficzna Power Color Red Devil Radeon RX 7800 XT 16GB GDDR6 (RX 7800 XT 16G-E/OC)',\n",
       "       'Karta graficzna Power Color Hellhound Radeon RX 7800 XT 16GB GDDR6 (RX 7800 XT 16G-L/OC)',\n",
       "       'Karta graficzna PNY GeForce RTX 4070 Verto 12GB GDDR6X (VCG407012DFXPB1)',\n",
       "       'Karta graficzna Sapphire Nitro+ Radeon RX 7800 XT 16GB GDDR6 (11330-01-20G)',\n",
       "       'Karta graficzna ASRock Radeon RX 7800 XT Phantom Gaming OC 16GB GDDR6 (RX7800XT PG 16GO)',\n",
       "       'Karta graficzna Asus TUF Gaming GeForce RTX 4070 12GB GDDR6X (TUF-RTX4070-12G-GAMING)',\n",
       "       'Karta graficzna Power Color Red Devil Radeon RX 7800 XT Limited Edition 16GB GDDR6 (RX 7800 XT 16G-E/OC/LIMITED)',\n",
       "       'Karta graficzna MSI GeForce RTX 4070 Gaming X Slim 12GB GDDR6X',\n",
       "       'Karta graficzna MSI Karta graficzna GeForce RTX 4070 Ti VENTUS 3X E 12G OC GDDRX6 192bit 3DP',\n",
       "       'Karta graficzna ASRock Radeon RX 7900 XT Phantom Gaming OC 20GB GDDR6 (RX7900XT PG 20GO)',\n",
       "       'Karta graficzna XFX Radeon RX 7900 XT Speedster MERC 310 Black Edition 20GB GDDR6 (RX-79TMERCB9)',\n",
       "       'Karta graficzna MSI GeForce RTX 4070 Ti Gaming X Slim 12GB GDDR6X',\n",
       "       'Karta graficzna Gigabyte GeForce RTX 4070 Ti Aero OC V2 12GB GDDR6X (GV-N407TAERO OCV2-12GD)',\n",
       "       'Karta graficzna MSI GeForce RTX 4070 Ti Suprim SE 12GB GDDR6X',\n",
       "       'Karta graficzna Inno3D GeForce RTX 4080 iCHILL X3 16GB GDDR6X (C40803-166XX-187049H)',\n",
       "       'Karta graficzna PNY GeForce RTX 4080 XLR8 Gaming Verto Epic-X RGB OC 16GB GDDR6X (VCG408016TFXXPB1-O)',\n",
       "       'Karta graficzna PNY GeForce RTX 4090 XLR8 Gaming VERTO EPIC-X RGB OC 24GB GDDR6X (VCG409024TFXXPB1-O)',\n",
       "       'Karta graficzna PNY GeForce RTX 4090 XLR8 Gaming VERTO EPIC-X RGB 24GB GDDR6X (VCG409024TFXXPB1)',\n",
       "       'Karta graficzna PNY GeForce RTX 4090 Verto 24GB GDDR6X (VCG409024TFXPB1)',\n",
       "       'Karta graficzna MSI GeForce RTX 4090 Suprim Liquid X 24GB GDDR6X',\n",
       "       'Karta graficzna Asus ROG Strix GeForce RTX 4090 OC 24GB GDDR6X (ROG-STRIX-RTX4090-O24G-WHITE)',\n",
       "       'Karta graficzna Gigabyte GeForce GTX 1660 OC 6GB GDDR5 (GV-N1660OC-6GD)',\n",
       "       'Karta graficzna Asus GeForce GTX 1050 Ti Cerberus OC 4GB GDDR5 (CERBERUS-GTX1050TI-O4G)',\n",
       "       'Karta graficzna Gigabyte GeForce RTX 3070 Eagle OC 8GB GDDR6 (GV-N3070EAGLE OC-8GD 2.0)',\n",
       "       'Karta graficzna Gigabyte GeForce GT 1030 Low Profile 2GB GDDR5 (GV-N1030D5-2GL)',\n",
       "       'Karta graficzna Palit GeForce GTX 1660 SUPER GamingPro OC 6GB GDDR6 (NE6166SS18J9-1160A)',\n",
       "       'Karta graficzna Palit GeForce GTX 1660 SUPER GamingPro 6GB GDDR6 (NE6166S018J9-1160A)',\n",
       "       'Karta graficzna Gigabyte GeForce RTX 3060 Ti Eagle OC 8GB GDDR6 (GV-N306TEAGLE OC-8GD 2.0)',\n",
       "       'Karta graficzna Asus TUF Gaming GeForce RTX 3060 Ti Gaming OC V2 8GB GDDR6 (TUF-RTX3060TI-O8G-V2-GAMING)',\n",
       "       'Karta graficzna Gigabyte Radeon RX 6600 Eagle 8GB GDDR6 (GV-R66EAGLE-8GD)',\n",
       "       'Karta graficzna MSI GeForce RTX 3060 Gaming X 12GB GDDR6 (RTX 3060 GAMING X 12G)',\n",
       "       'Karta graficzna Gigabyte GeForce GTX 1050Ti Low Profile OC 4GB GDDR5 (GV-N105TOC-4GL)',\n",
       "       'Karta graficzna Gigabyte Aorus GeForce RTX 3060 Elite 12GB GDDR6 (GV-N3060AORUS E-12GD 2.0)',\n",
       "       'Karta graficzna Asus Dual GeForce RTX 2060 OC Evo 6GB GDDR6 (DUAL-RTX2060-O6G-EVO)',\n",
       "       'Karta graficzna Gigabyte GeForce 1650 D6 OC 4GB GDDR6 (GV-N1656OC-4GD 2.0)',\n",
       "       'Karta graficzna Gigabyte GeForce RTX 4070 WindForce OC 12GB GDDR6X (GV-N4070WF3OC-12GD)',\n",
       "       'Karta graficzna Asus TUF GeForce RTX 3060 Gaming OC 12GB GDDR6 (TUF-RTX3060-O12G-V2-GAMING)',\n",
       "       'Karta graficzna Gigabyte GeForce GT 1030 Silent Low Profile 2GB GDDR5 (GV-N1030SL-2GL)',\n",
       "       'Karta graficzna MSI GeForce RTX 3070 Ti Gaming X Trio 8GB GDDR6X (RTX 3070 Ti GAMING X TRIO 8G)',\n",
       "       'Karta graficzna Gigabyte GeForce RTX 3050 Gaming OC 8GB GDDR6 (GV-N3050GAMING OC-8GD)',\n",
       "       'Karta graficzna Gigabyte GeForce GTX 1660 SUPER 6GB GDDR6 (GV-N166SD6-6GD)',\n",
       "       'Karta graficzna Asus TUF GeForce GTX 1650 Gaming OC 4GB GDDR6 (TUF-GTX1650-O4GD6-P-GAMING)',\n",
       "       'Karta graficzna Gigabyte GeForce RTX 3080 Gaming OC 10GB GDDR6X (GV-N3080GAMING OC-10GD 2.0)',\n",
       "       'Karta graficzna Gigabyte GeForce GT 710 2GB GDDR5 (GV-N710D5-2GL)',\n",
       "       'Karta graficzna Asus Dual Radeon RX 6700 XT 12GB GDDR6 (DUAL-RX6700XT-12G)',\n",
       "       'Karta graficzna Gigabyte GeForce GT 710 2GB GDDR5 (GV-N710D5SL-2GL 1.0)',\n",
       "       'Karta graficzna Gigabyte GeForce RTX 2060 SUPER Gaming OC 3X 8GB GDDR6 (GV-N206SGAMING OC-8GD)',\n",
       "       'Karta graficzna Asus TUF GeForce GTX 1650 SUPER Gaming OC 4GB GDDR6 (TUF-GTX1650S-O4G-GAMING)',\n",
       "       'Karta graficzna Gigabyte GeForce RTX 4070 Ti Gaming OC 12GB GDDR6X (GV-N407TGAMING OC-12GD)',\n",
       "       'Karta graficzna Sapphire Radeon RX 6700 Gaming OC 10GB GDDR6 (11321-03-20G)',\n",
       "       'Karta graficzna Asus Dual Radeon RX 6600 Gaming OC 8GB GDDR6 (DUAL-RX6600-8G)',\n",
       "       'Karta graficzna Palit GeForce RTX 3070 GamingPro 8GB GDDR6 (NE63070019P2-1041A)',\n",
       "       'Karta graficzna Asus GeForce GT 1030 Low Profile 2GB GDDR5 (GT1030-2G-BRK)',\n",
       "       'Karta graficzna MSI GeForce RTX 4070 Ti Ventus 3X OC 12GB GDDR6X',\n",
       "       'Karta graficzna Asus TUF Gaming GeForce RTX 3070 Ti Gaming OC 8GB GDDR6X (TUF-RTX3070TI-O8G-GAMING)',\n",
       "       'Karta graficzna Palit GeForce GT 710 2GB DDR3 (NEAT7100HD46H)',\n",
       "       'Karta graficzna MSI GeForce RTX 3060 Gaming Z Trio 12GB GDDR6 (V390-245R)',\n",
       "       'Karta graficzna MSI GeForce RTX 3060 Ti Gaming Z Trio 8GB GDDR6 (RTX 3060 Ti GAMING Z TRIO 8G LHR)',\n",
       "       'Karta graficzna Asus GeForce GT 1030 2GB GDDR5 (GT1030-SL-2G-BRK)',\n",
       "       'Karta graficzna Gainward GeForce RTX 3060Ti Ghost 8GB GDDR6 (471056224-2270)',\n",
       "       'Karta graficzna Asus TUF Gaming GeForce RTX 3060 Ti OC 8GB GDDR6X (TUF-RTX3060TI-O8GD6X-GAMING)',\n",
       "       'Karta graficzna PNY GeForce GTX 1650 Dual Fan 4GB GDDR6 (VCG16504D6DFPPB)',\n",
       "       'Karta graficzna KFA2 GeForce RTX 3060 1-Click OC 12GB GDDR6 (36NOL7MD1VOK)',\n",
       "       'Karta graficzna Palit GeForce RTX 3070 GamingPro OC 8GB GDDR6 (NE63070S19P2-1041A)',\n",
       "       'Karta graficzna Asus ROG Strix GeForce RTX 3070 Ti Gaming OC 8GB GDDR6X (ROG-STRIX-RTX3070TI-O8G-GAMING)',\n",
       "       'Karta graficzna Gainward GeForce RTX 3060 Ghost OC 12GB GDDR6 (471056224-2478)',\n",
       "       'Karta graficzna MSI GeForce RTX 3070 Gaming Z Trio 8GB GDDR6 (RTX 3070 GAMING Z TRIO LHR)',\n",
       "       'Karta graficzna Asus GeForce GTX 1050 Ti Cerberus Advanced Edition 4GB GDDR5 (CERBERUS-GTX1050TI-A4G)',\n",
       "       'Karta graficzna Gigabyte GeForce RTX 4070 Eagle OC 12GB GDDR6X (GV-N4070EAGLE OC-12GD)',\n",
       "       'Karta graficzna MSI GeForce RTX 4070 Gaming X Trio 12GB GDDR6X',\n",
       "       'Karta graficzna Asus Phoenix Radeon 550 2GB GDDR5 (PH-550-2G)',\n",
       "       'Karta graficzna Zotac GeForce GT 730 Zone 4GB DDR3 (ZT-71115-20L)',\n",
       "       'Karta graficzna Palit GeForce RTX 2080 SUPER GameRock Premium 8GB GDDR6 (NE6208SH20P2-1040G)',\n",
       "       'Karta graficzna Asus GeForce GTX 1650 OC Low Profile 4GB GDDR5 (90YV0D30-M0NA00)',\n",
       "       'Karta graficzna Zotac GeForce GT 1030 LP 2GB GDDR5 (ZT-P10300A-10L)',\n",
       "       'Karta graficzna Biostar Radeon RX 560 Gaming OC 4GB GDDR5 (VA5615RF41-TBE1A-BS2)',\n",
       "       'Karta graficzna Gigabyte GeForce RTX 3060 Eagle 12GB GDDR6 (GV-N3060EAGLE-12GD 2.0)',\n",
       "       'Karta graficzna Gigabyte GeForce GT 730 2GB GDDR5 (GV-N730D5-2GL)',\n",
       "       'Karta graficzna Biostar GeForce GT 1030 4GB DDR4 (VN1034TB46-TB1RA-BS2)',\n",
       "       'Karta graficzna Palit GeForce RTX 3070 JetStream 8GB GDDR6 (NE63070019P2-1040J)',\n",
       "       'Karta graficzna Gainward GeForce GTX 1650 D6 Ghost 4GB GDDR6 (471056224-1808)',\n",
       "       'Karta graficzna Gigabyte Radeon RX 6600 XT Gaming OC 8GB GDDR6 (GV-R66XTGAMING OC-8GD)',\n",
       "       'Karta graficzna Power Color Radeon RX 6600 XT Fighter 8GB GDDR6 (AXRX 6600XT 8GBD6-3DH)',\n",
       "       'Karta graficzna Gigabyte Radeon RX 6800 XT Gaming OC 16GB GDDR6 (GV-R68XTGAMING OC-16GD)',\n",
       "       'Karta graficzna Gigabyte GeForce GT 1030 Low Profile D4 2GB DDR4 (GV-N1030D4-2GL)',\n",
       "       'Karta graficzna Gigabyte GeForce GTX 1650 D6 OC Low Profile 4GB GDDR6 (GV-N1656OC-4GL)',\n",
       "       'Karta graficzna Asus TUF GeForce GTX 1660 Ti Gaming Evo OC 6GB GDDR6 (TUF-GTX1660TI-O6G-EVO-GAMING)',\n",
       "       'Karta graficzna MSI GeForce RTX 4080 Suprim X 16GB GDDR6X (RTX 4080 16GB SUPRIM X)',\n",
       "       'Karta graficzna MSI GeForce RTX 3080 Gaming Z Trio 10GB GDDR6 (RTX 3080 GAMING Z TRIO 10G LHR)',\n",
       "       'Karta graficzna Asus TUF Gaming GeForce RTX 4070 Ti 12GB GDDR6X (TUF-RTX4070TI-12G-GAMING)',\n",
       "       'Karta graficzna Gigabyte GeForce RTX 4070 Ti Eagle OC 12GB GDDR6X (GV-N407TEAGLE OC-12GD)',\n",
       "       'Karta graficzna AFOX GeForce GTX 1050 2GB GDDR5 (AF1050-2048D5H7-V2)',\n",
       "       'Karta graficzna Gigabyte GeForce 1650 D6 OC 4GB GDDR6 (GV-N1656OC-4GD)',\n",
       "       'Karta graficzna Palit GeForce GTX 1660 StormX 6GB GDDR5 (NE51660018J9-165F)',\n",
       "       'Karta graficzna Palit GeForce RTX 3060 Dual OC 12GB GDDR6 (NE63060T19K9-190AD)',\n",
       "       'Karta graficzna AFOX Geforce GT 210 1GB DDR2 (AF210-1024D2LG2)',\n",
       "       'Karta graficzna Palit GeForce GTX 1650 Storm X 4GB GDDR5 (NE51650006G1-1170F)',\n",
       "       'Karta graficzna Gigabyte GeForce GTX 1650 OC Low Profile 4GB GDDR5 (GV-N1650OC-4GL)',\n",
       "       'Karta graficzna Inno3D GeForce RTX 3060 Twin X2 12GB GDDR6 (N30602-12D6-119032AH)',\n",
       "       'Karta graficzna Power Color Radeon RX 6700XT Hellhound 12GB GDDR6 (AXRX 6700XT 12GBD6-3DHL)',\n",
       "       'Karta graficzna MSI GeForce RTX 3060 Ti Ventus 2X OC 8GB GDDR6X',\n",
       "       'Karta graficzna Asus ROG Strix Radeon RX 5600 XT TOP GAMING 6GB GDDR6 (ROG-STRIX-RX5600XT-T6G-GAMING)',\n",
       "       'Karta graficzna Asus Dual GeForce RTX 4070 OC 12GB GDDR6X (DUAL-RTX4070-O12G)',\n",
       "       'Karta graficzna XFX Speedster MERC 319 Radeon RX 6950 XT 16GB GDDR6 (RX-695XATBD9)',\n",
       "       'Karta graficzna Asus ROG Strix GeForce RTX 4090 OC Edition 24GB GDDR6X (ROG-STRIX-RTX4090-O24G-GAMING)',\n",
       "       'Karta graficzna MSI Radeon RX 6600 Mech 2X 8GB GDDR6 (RX 6600 MECH 2X 8G)',\n",
       "       'Karta graficzna Gainward GeForce RTX 4080 Phantom 16GB GDDR6X (471056224-3505)',\n",
       "       'Karta graficzna Gainward GeForce GT 710 SilentFX 2GB DDR3 (426018336-3576)',\n",
       "       'Karta graficzna Palit GeForce RTX 3050 Dual 8GB GDDR6 (NE63050019P1-190AD)',\n",
       "       'Karta graficzna Inno3D GeForce RTX 3060Ti Twin X2 OC 8GB GDDR6 (N306T2-08D6X-119032DH)',\n",
       "       'Karta graficzna Gigabyte GeForce GT 710 2GB GDDR5 (GV-N710D5-2GIL)',\n",
       "       'Karta graficzna Asus TUF GeForce GTX 1650 D6 Gaming OC 4GB GDDR6 (TUF-GTX1650-O4GD6-GAMING)',\n",
       "       'Karta graficzna Sapphire Radeon RX 6750 XT Nitro+ 12GB GDDR6 (11318-01-20G)',\n",
       "       'Karta graficzna Palit GeForce RTX 4070 JetStream 12GB GDDR6X (NED4070019K9-1047J)',\n",
       "       'Karta graficzna Gigabyte GeForce RTX 4070 Aero OC 12GB GDDR6X (GV-N4070AERO OC-12GD)',\n",
       "       'Karta graficzna Gainward GeForce RTX 3070 Phoenix 8GB GDDR6 (471056224-1990)',\n",
       "       'Karta graficzna Inno3D GeForce RTX 3070 Ti iChill X4 8GB GDDR6X (C307T4-086XX-1820VA35)',\n",
       "       'Karta graficzna Gigabyte GeForce RTX 4060 Ti Eagle 8GB GDDR6 (GV-N406TEAGLE-8GD)',\n",
       "       'Karta graficzna Asus TUF GeForce GTX 1650 P Gaming 4GB GDDR6 (TUF-GTX1650-4GD6-P-GAMING)',\n",
       "       'Karta graficzna Zotac GeForce RTX 3060 Twin Edge 12GB GDDR6 (ZT-A30600E-10M)',\n",
       "       'Karta graficzna XFX Radeon RX 6700 XT SWFT 309 Gaming 12GB GDDR6 (RX-67XTYJFDV)',\n",
       "       'Karta graficzna Gigabyte Radeon RX 6750 XT Gaming OC 12GB GDDR6 (GV-R675XTGAMING OC-12GD)'],\n",
       "      dtype=object)"
      ]
     },
     "execution_count": 9,
     "metadata": {},
     "output_type": "execute_result"
    }
   ],
   "source": [
    "df['Title'].unique()"
   ]
  },
  {
   "cell_type": "code",
   "execution_count": 13,
   "metadata": {},
   "outputs": [
    {
     "name": "stdout",
     "output_type": "stream",
     "text": [
      "Brand\n",
      "Others      272\n",
      "Gigabyte    120\n",
      "MSI         108\n",
      "Asus        100\n",
      "Name: count, dtype: int64\n"
     ]
    }
   ],
   "source": [
    "df['Brand'] = df['Title'].apply(lambda x: 'Gigabyte' if 'Gigabyte' in x else ('MSI' if 'MSI' in x else ('Asus' if 'Asus' in x else 'Others')))\n",
    "brand_counts = df['Brand'].value_counts()\n",
    "print(brand_counts)"
   ]
  },
  {
   "cell_type": "code",
   "execution_count": 14,
   "metadata": {},
   "outputs": [
    {
     "name": "stdout",
     "output_type": "stream",
     "text": [
      "OC\n",
      "Non-OC    308\n",
      "OC        292\n",
      "Name: count, dtype: int64\n"
     ]
    }
   ],
   "source": [
    "df['OC'] = df['Title'].apply(lambda x: 'OC' if 'OC' in x else 'Non-OC')\n",
    "oc_counts = df['OC'].value_counts()\n",
    "print(oc_counts)"
   ]
  },
  {
   "cell_type": "code",
   "execution_count": 19,
   "metadata": {},
   "outputs": [
    {
     "name": "stdout",
     "output_type": "stream",
     "text": [
      "Cooling_Type\n",
      "Ventus    42\n",
      "Name: count, dtype: int64\n"
     ]
    }
   ],
   "source": [
    "df['Cooling_Type'] = df['Title'].str.extract('(Ventus)')\n",
    "cooling_type_counts = df['Cooling_Type'].value_counts()\n",
    "print(cooling_type_counts)"
   ]
  },
  {
   "cell_type": "code",
   "execution_count": 21,
   "metadata": {},
   "outputs": [
    {
     "name": "stdout",
     "output_type": "stream",
     "text": [
      "Collecting matplotlib\n",
      "  Downloading matplotlib-3.7.3-cp311-cp311-win_amd64.whl (7.5 MB)\n",
      "                                              0.0/7.5 MB ? eta -:--:--\n",
      "     -                                        0.2/7.5 MB 4.6 MB/s eta 0:00:02\n",
      "     -----                                    1.0/7.5 MB 10.9 MB/s eta 0:00:01\n",
      "     -----------------                        3.2/7.5 MB 22.6 MB/s eta 0:00:01\n",
      "     ---------------------------------------  7.5/7.5 MB 39.9 MB/s eta 0:00:01\n",
      "     ---------------------------------------- 7.5/7.5 MB 36.7 MB/s eta 0:00:00\n",
      "Collecting contourpy>=1.0.1 (from matplotlib)\n",
      "  Downloading contourpy-1.1.0-cp311-cp311-win_amd64.whl (470 kB)\n",
      "                                              0.0/470.9 kB ? eta -:--:--\n",
      "     ---------------------------------------- 470.9/470.9 kB ? eta 0:00:00\n",
      "Collecting cycler>=0.10 (from matplotlib)\n",
      "  Downloading cycler-0.11.0-py3-none-any.whl (6.4 kB)\n",
      "Collecting fonttools>=4.22.0 (from matplotlib)\n",
      "  Downloading fonttools-4.42.1-cp311-cp311-win_amd64.whl (2.1 MB)\n",
      "                                              0.0/2.1 MB ? eta -:--:--\n",
      "     ---------------------------------------- 2.1/2.1 MB 131.6 MB/s eta 0:00:00\n",
      "Collecting kiwisolver>=1.0.1 (from matplotlib)\n",
      "  Downloading kiwisolver-1.4.5-cp311-cp311-win_amd64.whl (56 kB)\n",
      "                                              0.0/56.1 kB ? eta -:--:--\n",
      "     ---------------------------------------- 56.1/56.1 kB ? eta 0:00:00\n",
      "Requirement already satisfied: numpy<2,>=1.20 in c:\\users\\zakub\\appdata\\local\\programs\\python\\python311\\lib\\site-packages (from matplotlib) (1.25.2)\n",
      "Requirement already satisfied: packaging>=20.0 in c:\\users\\zakub\\appdata\\roaming\\python\\python311\\site-packages (from matplotlib) (23.1)\n",
      "Collecting pillow>=6.2.0 (from matplotlib)\n",
      "  Downloading Pillow-10.0.0-cp311-cp311-win_amd64.whl (2.5 MB)\n",
      "                                              0.0/2.5 MB ? eta -:--:--\n",
      "     ---------------------------------------- 2.5/2.5 MB 80.7 MB/s eta 0:00:00\n",
      "Collecting pyparsing>=2.3.1 (from matplotlib)\n",
      "  Downloading pyparsing-3.1.1-py3-none-any.whl (103 kB)\n",
      "                                              0.0/103.1 kB ? eta -:--:--\n",
      "     ---------------------------------------- 103.1/103.1 kB ? eta 0:00:00\n",
      "Requirement already satisfied: python-dateutil>=2.7 in c:\\users\\zakub\\appdata\\roaming\\python\\python311\\site-packages (from matplotlib) (2.8.2)\n",
      "Requirement already satisfied: six>=1.5 in c:\\users\\zakub\\appdata\\roaming\\python\\python311\\site-packages (from python-dateutil>=2.7->matplotlib) (1.16.0)\n",
      "Installing collected packages: pyparsing, pillow, kiwisolver, fonttools, cycler, contourpy, matplotlib\n",
      "Successfully installed contourpy-1.1.0 cycler-0.11.0 fonttools-4.42.1 kiwisolver-1.4.5 matplotlib-3.7.3 pillow-10.0.0 pyparsing-3.1.1\n",
      "Note: you may need to restart the kernel to use updated packages.\n"
     ]
    },
    {
     "name": "stderr",
     "output_type": "stream",
     "text": [
      "\n",
      "[notice] A new release of pip is available: 23.1.2 -> 23.2.1\n",
      "[notice] To update, run: python.exe -m pip install --upgrade pip\n"
     ]
    }
   ],
   "source": [
    "pip install matplotlib"
   ]
  },
  {
   "cell_type": "code",
   "execution_count": 24,
   "metadata": {},
   "outputs": [],
   "source": [
    "import matplotlib.pyplot as plt"
   ]
  },
  {
   "cell_type": "code",
   "execution_count": 28,
   "metadata": {},
   "outputs": [
    {
     "data": {
      "image/png": "[encoded data removed]",
      "text/plain": [
       "<Figure size 640x480 with 1 Axes>"
      ]
     },
     "metadata": {},
     "output_type": "display_data"
    }
   ],
   "source": [
    "df['Type'] = df['Title'].apply(lambda x: 'GeForce' if 'GeForce' in x else ('Radeon' if 'Radeon' in x else 'Others'))\n",
    "type_counts = df['Type'].value_counts()\n",
    "\n",
    "type_counts.plot(kind='bar', color=['blue', 'red'])\n",
    "plt.title('GeForce vs Radeon')\n",
    "plt.xlabel('GPU')\n",
    "plt.ylabel('Models')\n",
    "plt.show()"
   ]
  }
 ],
 "metadata": {
  "kernelspec": {
   "display_name": "Python 3",
   "language": "python",
   "name": "python3"
  },
  "language_info": {
   "codemirror_mode": {
    "name": "ipython",
    "version": 3
   },
   "file_extension": ".py",
   "mimetype": "text/x-python",
   "name": "python",
   "nbconvert_exporter": "python",
   "pygments_lexer": "ipython3",
   "version": "3.11.4"
  },
  "orig_nbformat": 4
 },
 "nbformat": 4,
 "nbformat_minor": 2
}
